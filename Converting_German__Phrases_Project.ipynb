{
  "nbformat": 4,
  "nbformat_minor": 0,
  "metadata": {
    "colab": {
      "name": "Converting_German _Phrases Project.ipynb",
      "provenance": []
    },
    "kernelspec": {
      "name": "python3",
      "display_name": "Python 3"
    },
    "language_info": {
      "name": "python"
    },
    "accelerator": "GPU"
  },
  "cells": [
    {
      "cell_type": "code",
      "execution_count": 7,
      "metadata": {
        "colab": {
          "base_uri": "https://localhost:8080/",
          "height": 206
        },
        "id": "MJ6e-vb2h9_E",
        "outputId": "448336c1-fb52-4786-fb8c-10ceab4c499d"
      },
      "outputs": [
        {
          "output_type": "execute_result",
          "data": {
            "text/plain": [
              "                           text label\n",
              "0                 zucker fabrik    ft\n",
              "1  Lebensmittel kommssionierung    ft\n",
              "2               geländer biegen    mr\n",
              "3  gebäudeausrüstung technische    ct\n",
              "4         kürbiskernöl softgels    ft"
            ],
            "text/html": [
              "\n",
              "  <div id=\"df-51fe2c67-1d3f-460c-b16b-7520231ba1a4\">\n",
              "    <div class=\"colab-df-container\">\n",
              "      <div>\n",
              "<style scoped>\n",
              "    .dataframe tbody tr th:only-of-type {\n",
              "        vertical-align: middle;\n",
              "    }\n",
              "\n",
              "    .dataframe tbody tr th {\n",
              "        vertical-align: top;\n",
              "    }\n",
              "\n",
              "    .dataframe thead th {\n",
              "        text-align: right;\n",
              "    }\n",
              "</style>\n",
              "<table border=\"1\" class=\"dataframe\">\n",
              "  <thead>\n",
              "    <tr style=\"text-align: right;\">\n",
              "      <th></th>\n",
              "      <th>text</th>\n",
              "      <th>label</th>\n",
              "    </tr>\n",
              "  </thead>\n",
              "  <tbody>\n",
              "    <tr>\n",
              "      <th>0</th>\n",
              "      <td>zucker fabrik</td>\n",
              "      <td>ft</td>\n",
              "    </tr>\n",
              "    <tr>\n",
              "      <th>1</th>\n",
              "      <td>Lebensmittel kommssionierung</td>\n",
              "      <td>ft</td>\n",
              "    </tr>\n",
              "    <tr>\n",
              "      <th>2</th>\n",
              "      <td>geländer biegen</td>\n",
              "      <td>mr</td>\n",
              "    </tr>\n",
              "    <tr>\n",
              "      <th>3</th>\n",
              "      <td>gebäudeausrüstung technische</td>\n",
              "      <td>ct</td>\n",
              "    </tr>\n",
              "    <tr>\n",
              "      <th>4</th>\n",
              "      <td>kürbiskernöl softgels</td>\n",
              "      <td>ft</td>\n",
              "    </tr>\n",
              "  </tbody>\n",
              "</table>\n",
              "</div>\n",
              "      <button class=\"colab-df-convert\" onclick=\"convertToInteractive('df-51fe2c67-1d3f-460c-b16b-7520231ba1a4')\"\n",
              "              title=\"Convert this dataframe to an interactive table.\"\n",
              "              style=\"display:none;\">\n",
              "        \n",
              "  <svg xmlns=\"http://www.w3.org/2000/svg\" height=\"24px\"viewBox=\"0 0 24 24\"\n",
              "       width=\"24px\">\n",
              "    <path d=\"M0 0h24v24H0V0z\" fill=\"none\"/>\n",
              "    <path d=\"M18.56 5.44l.94 2.06.94-2.06 2.06-.94-2.06-.94-.94-2.06-.94 2.06-2.06.94zm-11 1L8.5 8.5l.94-2.06 2.06-.94-2.06-.94L8.5 2.5l-.94 2.06-2.06.94zm10 10l.94 2.06.94-2.06 2.06-.94-2.06-.94-.94-2.06-.94 2.06-2.06.94z\"/><path d=\"M17.41 7.96l-1.37-1.37c-.4-.4-.92-.59-1.43-.59-.52 0-1.04.2-1.43.59L10.3 9.45l-7.72 7.72c-.78.78-.78 2.05 0 2.83L4 21.41c.39.39.9.59 1.41.59.51 0 1.02-.2 1.41-.59l7.78-7.78 2.81-2.81c.8-.78.8-2.07 0-2.86zM5.41 20L4 18.59l7.72-7.72 1.47 1.35L5.41 20z\"/>\n",
              "  </svg>\n",
              "      </button>\n",
              "      \n",
              "  <style>\n",
              "    .colab-df-container {\n",
              "      display:flex;\n",
              "      flex-wrap:wrap;\n",
              "      gap: 12px;\n",
              "    }\n",
              "\n",
              "    .colab-df-convert {\n",
              "      background-color: #E8F0FE;\n",
              "      border: none;\n",
              "      border-radius: 50%;\n",
              "      cursor: pointer;\n",
              "      display: none;\n",
              "      fill: #1967D2;\n",
              "      height: 32px;\n",
              "      padding: 0 0 0 0;\n",
              "      width: 32px;\n",
              "    }\n",
              "\n",
              "    .colab-df-convert:hover {\n",
              "      background-color: #E2EBFA;\n",
              "      box-shadow: 0px 1px 2px rgba(60, 64, 67, 0.3), 0px 1px 3px 1px rgba(60, 64, 67, 0.15);\n",
              "      fill: #174EA6;\n",
              "    }\n",
              "\n",
              "    [theme=dark] .colab-df-convert {\n",
              "      background-color: #3B4455;\n",
              "      fill: #D2E3FC;\n",
              "    }\n",
              "\n",
              "    [theme=dark] .colab-df-convert:hover {\n",
              "      background-color: #434B5C;\n",
              "      box-shadow: 0px 1px 3px 1px rgba(0, 0, 0, 0.15);\n",
              "      filter: drop-shadow(0px 1px 2px rgba(0, 0, 0, 0.3));\n",
              "      fill: #FFFFFF;\n",
              "    }\n",
              "  </style>\n",
              "\n",
              "      <script>\n",
              "        const buttonEl =\n",
              "          document.querySelector('#df-51fe2c67-1d3f-460c-b16b-7520231ba1a4 button.colab-df-convert');\n",
              "        buttonEl.style.display =\n",
              "          google.colab.kernel.accessAllowed ? 'block' : 'none';\n",
              "\n",
              "        async function convertToInteractive(key) {\n",
              "          const element = document.querySelector('#df-51fe2c67-1d3f-460c-b16b-7520231ba1a4');\n",
              "          const dataTable =\n",
              "            await google.colab.kernel.invokeFunction('convertToInteractive',\n",
              "                                                     [key], {});\n",
              "          if (!dataTable) return;\n",
              "\n",
              "          const docLinkHtml = 'Like what you see? Visit the ' +\n",
              "            '<a target=\"_blank\" href=https://colab.research.google.com/notebooks/data_table.ipynb>data table notebook</a>'\n",
              "            + ' to learn more about interactive tables.';\n",
              "          element.innerHTML = '';\n",
              "          dataTable['output_type'] = 'display_data';\n",
              "          await google.colab.output.renderOutput(dataTable, element);\n",
              "          const docLink = document.createElement('div');\n",
              "          docLink.innerHTML = docLinkHtml;\n",
              "          element.appendChild(docLink);\n",
              "        }\n",
              "      </script>\n",
              "    </div>\n",
              "  </div>\n",
              "  "
            ]
          },
          "metadata": {},
          "execution_count": 7
        }
      ],
      "source": [
        "# Turn .csv files into pandas DataFrame's\n",
        "import pandas as pd\n",
        "train_df = pd.read_csv(\"/content/sample_data (1).csv\")\n",
        "train_df = train_df[pd.notnull(train_df['text'])] #removed null values shows only not null values\n",
        "train_df = train_df[pd.notnull(train_df['label'])] #remove null values shows only not null values\n",
        "train_df.head()"
      ]
    },
    {
      "cell_type": "code",
      "source": [
        "# check is there any null value present or not\n",
        "train_df.isnull().sum()"
      ],
      "metadata": {
        "colab": {
          "base_uri": "https://localhost:8080/"
        },
        "id": "yVxbVcThibBO",
        "outputId": "fb286cd6-282b-4ac2-d100-abacf6b1466d"
      },
      "execution_count": 8,
      "outputs": [
        {
          "output_type": "execute_result",
          "data": {
            "text/plain": [
              "text     0\n",
              "label    0\n",
              "dtype: int64"
            ]
          },
          "metadata": {},
          "execution_count": 8
        }
      ]
    },
    {
      "cell_type": "code",
      "source": [
        "train_df.text.size   #check text size"
      ],
      "metadata": {
        "colab": {
          "base_uri": "https://localhost:8080/"
        },
        "id": "0G-Erx5sidmD",
        "outputId": "43becb78-830c-408c-8703-3a0b82640dfa"
      },
      "execution_count": null,
      "outputs": [
        {
          "output_type": "execute_result",
          "data": {
            "text/plain": [
              "37195"
            ]
          },
          "metadata": {},
          "execution_count": 5
        }
      ]
    },
    {
      "cell_type": "code",
      "source": [
        "train_df.label.size  #Check label size"
      ],
      "metadata": {
        "colab": {
          "base_uri": "https://localhost:8080/"
        },
        "id": "nzAL6jkHig-D",
        "outputId": "cce48c61-54ed-472b-ad53-346956d18f55"
      },
      "execution_count": null,
      "outputs": [
        {
          "output_type": "execute_result",
          "data": {
            "text/plain": [
              "37195"
            ]
          },
          "metadata": {},
          "execution_count": 6
        }
      ]
    },
    {
      "cell_type": "code",
      "source": [
        "# Shuffle training dataframe\n",
        "train_df_shuffled = train_df.sample(frac=1, random_state=42) # shuffle with random_state=42 for reproducibility\n",
        "train_df_shuffled.head()# How many examples of each class?\n"
      ],
      "metadata": {
        "colab": {
          "base_uri": "https://localhost:8080/",
          "height": 206
        },
        "id": "CIqpN5R6ijUJ",
        "outputId": "f96fd1c0-8a8c-47e7-df2e-5bfdc7b9fb19"
      },
      "execution_count": 11,
      "outputs": [
        {
          "output_type": "execute_result",
          "data": {
            "text/plain": [
              "                                text label\n",
              "10744       Robotergestütztes Fräsen   cnc\n",
              "34076       Walzmaschinen hersteller    mr\n",
              "848           innenausbau schiffsbau    ct\n",
              "26041              Verpackungs druck   pkg\n",
              "31462  tiefziehteile massenfertigung    mr"
            ],
            "text/html": [
              "\n",
              "  <div id=\"df-a066f235-5bc4-4eeb-aecf-cf5e853840f7\">\n",
              "    <div class=\"colab-df-container\">\n",
              "      <div>\n",
              "<style scoped>\n",
              "    .dataframe tbody tr th:only-of-type {\n",
              "        vertical-align: middle;\n",
              "    }\n",
              "\n",
              "    .dataframe tbody tr th {\n",
              "        vertical-align: top;\n",
              "    }\n",
              "\n",
              "    .dataframe thead th {\n",
              "        text-align: right;\n",
              "    }\n",
              "</style>\n",
              "<table border=\"1\" class=\"dataframe\">\n",
              "  <thead>\n",
              "    <tr style=\"text-align: right;\">\n",
              "      <th></th>\n",
              "      <th>text</th>\n",
              "      <th>label</th>\n",
              "    </tr>\n",
              "  </thead>\n",
              "  <tbody>\n",
              "    <tr>\n",
              "      <th>10744</th>\n",
              "      <td>Robotergestütztes Fräsen</td>\n",
              "      <td>cnc</td>\n",
              "    </tr>\n",
              "    <tr>\n",
              "      <th>34076</th>\n",
              "      <td>Walzmaschinen hersteller</td>\n",
              "      <td>mr</td>\n",
              "    </tr>\n",
              "    <tr>\n",
              "      <th>848</th>\n",
              "      <td>innenausbau schiffsbau</td>\n",
              "      <td>ct</td>\n",
              "    </tr>\n",
              "    <tr>\n",
              "      <th>26041</th>\n",
              "      <td>Verpackungs druck</td>\n",
              "      <td>pkg</td>\n",
              "    </tr>\n",
              "    <tr>\n",
              "      <th>31462</th>\n",
              "      <td>tiefziehteile massenfertigung</td>\n",
              "      <td>mr</td>\n",
              "    </tr>\n",
              "  </tbody>\n",
              "</table>\n",
              "</div>\n",
              "      <button class=\"colab-df-convert\" onclick=\"convertToInteractive('df-a066f235-5bc4-4eeb-aecf-cf5e853840f7')\"\n",
              "              title=\"Convert this dataframe to an interactive table.\"\n",
              "              style=\"display:none;\">\n",
              "        \n",
              "  <svg xmlns=\"http://www.w3.org/2000/svg\" height=\"24px\"viewBox=\"0 0 24 24\"\n",
              "       width=\"24px\">\n",
              "    <path d=\"M0 0h24v24H0V0z\" fill=\"none\"/>\n",
              "    <path d=\"M18.56 5.44l.94 2.06.94-2.06 2.06-.94-2.06-.94-.94-2.06-.94 2.06-2.06.94zm-11 1L8.5 8.5l.94-2.06 2.06-.94-2.06-.94L8.5 2.5l-.94 2.06-2.06.94zm10 10l.94 2.06.94-2.06 2.06-.94-2.06-.94-.94-2.06-.94 2.06-2.06.94z\"/><path d=\"M17.41 7.96l-1.37-1.37c-.4-.4-.92-.59-1.43-.59-.52 0-1.04.2-1.43.59L10.3 9.45l-7.72 7.72c-.78.78-.78 2.05 0 2.83L4 21.41c.39.39.9.59 1.41.59.51 0 1.02-.2 1.41-.59l7.78-7.78 2.81-2.81c.8-.78.8-2.07 0-2.86zM5.41 20L4 18.59l7.72-7.72 1.47 1.35L5.41 20z\"/>\n",
              "  </svg>\n",
              "      </button>\n",
              "      \n",
              "  <style>\n",
              "    .colab-df-container {\n",
              "      display:flex;\n",
              "      flex-wrap:wrap;\n",
              "      gap: 12px;\n",
              "    }\n",
              "\n",
              "    .colab-df-convert {\n",
              "      background-color: #E8F0FE;\n",
              "      border: none;\n",
              "      border-radius: 50%;\n",
              "      cursor: pointer;\n",
              "      display: none;\n",
              "      fill: #1967D2;\n",
              "      height: 32px;\n",
              "      padding: 0 0 0 0;\n",
              "      width: 32px;\n",
              "    }\n",
              "\n",
              "    .colab-df-convert:hover {\n",
              "      background-color: #E2EBFA;\n",
              "      box-shadow: 0px 1px 2px rgba(60, 64, 67, 0.3), 0px 1px 3px 1px rgba(60, 64, 67, 0.15);\n",
              "      fill: #174EA6;\n",
              "    }\n",
              "\n",
              "    [theme=dark] .colab-df-convert {\n",
              "      background-color: #3B4455;\n",
              "      fill: #D2E3FC;\n",
              "    }\n",
              "\n",
              "    [theme=dark] .colab-df-convert:hover {\n",
              "      background-color: #434B5C;\n",
              "      box-shadow: 0px 1px 3px 1px rgba(0, 0, 0, 0.15);\n",
              "      filter: drop-shadow(0px 1px 2px rgba(0, 0, 0, 0.3));\n",
              "      fill: #FFFFFF;\n",
              "    }\n",
              "  </style>\n",
              "\n",
              "      <script>\n",
              "        const buttonEl =\n",
              "          document.querySelector('#df-a066f235-5bc4-4eeb-aecf-cf5e853840f7 button.colab-df-convert');\n",
              "        buttonEl.style.display =\n",
              "          google.colab.kernel.accessAllowed ? 'block' : 'none';\n",
              "\n",
              "        async function convertToInteractive(key) {\n",
              "          const element = document.querySelector('#df-a066f235-5bc4-4eeb-aecf-cf5e853840f7');\n",
              "          const dataTable =\n",
              "            await google.colab.kernel.invokeFunction('convertToInteractive',\n",
              "                                                     [key], {});\n",
              "          if (!dataTable) return;\n",
              "\n",
              "          const docLinkHtml = 'Like what you see? Visit the ' +\n",
              "            '<a target=\"_blank\" href=https://colab.research.google.com/notebooks/data_table.ipynb>data table notebook</a>'\n",
              "            + ' to learn more about interactive tables.';\n",
              "          element.innerHTML = '';\n",
              "          dataTable['output_type'] = 'display_data';\n",
              "          await google.colab.output.renderOutput(dataTable, element);\n",
              "          const docLink = document.createElement('div');\n",
              "          docLink.innerHTML = docLinkHtml;\n",
              "          element.appendChild(docLink);\n",
              "        }\n",
              "      </script>\n",
              "    </div>\n",
              "  </div>\n",
              "  "
            ]
          },
          "metadata": {},
          "execution_count": 11
        }
      ]
    },
    {
      "cell_type": "code",
      "source": [
        "train_df['label'].value_counts()  #check different labels size present in dataset"
      ],
      "metadata": {
        "colab": {
          "base_uri": "https://localhost:8080/"
        },
        "id": "ZhGlhIvyjLxE",
        "outputId": "524c8f35-2b49-4437-f06e-59a7d04ca1ee"
      },
      "execution_count": 12,
      "outputs": [
        {
          "output_type": "execute_result",
          "data": {
            "text/plain": [
              "ft     11226\n",
              "pkg     9617\n",
              "ct      5061\n",
              "mr      5016\n",
              "ch      3688\n",
              "cnc     2587\n",
              "Name: label, dtype: int64"
            ]
          },
          "metadata": {},
          "execution_count": 12
        }
      ]
    },
    {
      "cell_type": "code",
      "source": [
        "# Mapping values for label\n",
        "train_df['label'] = train_df['label'].map({'ft': 0, 'pkg': 1, 'ct': 2, 'mr': 3, 'ch': 4, 'cnc': 5})"
      ],
      "metadata": {
        "id": "UD7XzNmai04L"
      },
      "execution_count": 13,
      "outputs": []
    },
    {
      "cell_type": "code",
      "source": [
        "train_df.head(10)"
      ],
      "metadata": {
        "colab": {
          "base_uri": "https://localhost:8080/",
          "height": 363
        },
        "id": "yE-Ydw-XkO7W",
        "outputId": "fd195f5f-9efc-4569-a571-d0ef2537eb80"
      },
      "execution_count": 14,
      "outputs": [
        {
          "output_type": "execute_result",
          "data": {
            "text/plain": [
              "                            text  label\n",
              "0                  zucker fabrik      0\n",
              "1   Lebensmittel kommssionierung      0\n",
              "2                geländer biegen      3\n",
              "3   gebäudeausrüstung technische      2\n",
              "4          kürbiskernöl softgels      0\n",
              "5  Lebensmittel Organic Getränke      0\n",
              "6        plastikflaschen abfälle      1\n",
              "7               Knoblauch frisch      0\n",
              "8     Lohnarbeiten für Druckguss      2\n",
              "9               etiketten metall      1"
            ],
            "text/html": [
              "\n",
              "  <div id=\"df-de0ecdd4-a7d9-4a8c-8ea5-fa76becf9243\">\n",
              "    <div class=\"colab-df-container\">\n",
              "      <div>\n",
              "<style scoped>\n",
              "    .dataframe tbody tr th:only-of-type {\n",
              "        vertical-align: middle;\n",
              "    }\n",
              "\n",
              "    .dataframe tbody tr th {\n",
              "        vertical-align: top;\n",
              "    }\n",
              "\n",
              "    .dataframe thead th {\n",
              "        text-align: right;\n",
              "    }\n",
              "</style>\n",
              "<table border=\"1\" class=\"dataframe\">\n",
              "  <thead>\n",
              "    <tr style=\"text-align: right;\">\n",
              "      <th></th>\n",
              "      <th>text</th>\n",
              "      <th>label</th>\n",
              "    </tr>\n",
              "  </thead>\n",
              "  <tbody>\n",
              "    <tr>\n",
              "      <th>0</th>\n",
              "      <td>zucker fabrik</td>\n",
              "      <td>0</td>\n",
              "    </tr>\n",
              "    <tr>\n",
              "      <th>1</th>\n",
              "      <td>Lebensmittel kommssionierung</td>\n",
              "      <td>0</td>\n",
              "    </tr>\n",
              "    <tr>\n",
              "      <th>2</th>\n",
              "      <td>geländer biegen</td>\n",
              "      <td>3</td>\n",
              "    </tr>\n",
              "    <tr>\n",
              "      <th>3</th>\n",
              "      <td>gebäudeausrüstung technische</td>\n",
              "      <td>2</td>\n",
              "    </tr>\n",
              "    <tr>\n",
              "      <th>4</th>\n",
              "      <td>kürbiskernöl softgels</td>\n",
              "      <td>0</td>\n",
              "    </tr>\n",
              "    <tr>\n",
              "      <th>5</th>\n",
              "      <td>Lebensmittel Organic Getränke</td>\n",
              "      <td>0</td>\n",
              "    </tr>\n",
              "    <tr>\n",
              "      <th>6</th>\n",
              "      <td>plastikflaschen abfälle</td>\n",
              "      <td>1</td>\n",
              "    </tr>\n",
              "    <tr>\n",
              "      <th>7</th>\n",
              "      <td>Knoblauch frisch</td>\n",
              "      <td>0</td>\n",
              "    </tr>\n",
              "    <tr>\n",
              "      <th>8</th>\n",
              "      <td>Lohnarbeiten für Druckguss</td>\n",
              "      <td>2</td>\n",
              "    </tr>\n",
              "    <tr>\n",
              "      <th>9</th>\n",
              "      <td>etiketten metall</td>\n",
              "      <td>1</td>\n",
              "    </tr>\n",
              "  </tbody>\n",
              "</table>\n",
              "</div>\n",
              "      <button class=\"colab-df-convert\" onclick=\"convertToInteractive('df-de0ecdd4-a7d9-4a8c-8ea5-fa76becf9243')\"\n",
              "              title=\"Convert this dataframe to an interactive table.\"\n",
              "              style=\"display:none;\">\n",
              "        \n",
              "  <svg xmlns=\"http://www.w3.org/2000/svg\" height=\"24px\"viewBox=\"0 0 24 24\"\n",
              "       width=\"24px\">\n",
              "    <path d=\"M0 0h24v24H0V0z\" fill=\"none\"/>\n",
              "    <path d=\"M18.56 5.44l.94 2.06.94-2.06 2.06-.94-2.06-.94-.94-2.06-.94 2.06-2.06.94zm-11 1L8.5 8.5l.94-2.06 2.06-.94-2.06-.94L8.5 2.5l-.94 2.06-2.06.94zm10 10l.94 2.06.94-2.06 2.06-.94-2.06-.94-.94-2.06-.94 2.06-2.06.94z\"/><path d=\"M17.41 7.96l-1.37-1.37c-.4-.4-.92-.59-1.43-.59-.52 0-1.04.2-1.43.59L10.3 9.45l-7.72 7.72c-.78.78-.78 2.05 0 2.83L4 21.41c.39.39.9.59 1.41.59.51 0 1.02-.2 1.41-.59l7.78-7.78 2.81-2.81c.8-.78.8-2.07 0-2.86zM5.41 20L4 18.59l7.72-7.72 1.47 1.35L5.41 20z\"/>\n",
              "  </svg>\n",
              "      </button>\n",
              "      \n",
              "  <style>\n",
              "    .colab-df-container {\n",
              "      display:flex;\n",
              "      flex-wrap:wrap;\n",
              "      gap: 12px;\n",
              "    }\n",
              "\n",
              "    .colab-df-convert {\n",
              "      background-color: #E8F0FE;\n",
              "      border: none;\n",
              "      border-radius: 50%;\n",
              "      cursor: pointer;\n",
              "      display: none;\n",
              "      fill: #1967D2;\n",
              "      height: 32px;\n",
              "      padding: 0 0 0 0;\n",
              "      width: 32px;\n",
              "    }\n",
              "\n",
              "    .colab-df-convert:hover {\n",
              "      background-color: #E2EBFA;\n",
              "      box-shadow: 0px 1px 2px rgba(60, 64, 67, 0.3), 0px 1px 3px 1px rgba(60, 64, 67, 0.15);\n",
              "      fill: #174EA6;\n",
              "    }\n",
              "\n",
              "    [theme=dark] .colab-df-convert {\n",
              "      background-color: #3B4455;\n",
              "      fill: #D2E3FC;\n",
              "    }\n",
              "\n",
              "    [theme=dark] .colab-df-convert:hover {\n",
              "      background-color: #434B5C;\n",
              "      box-shadow: 0px 1px 3px 1px rgba(0, 0, 0, 0.15);\n",
              "      filter: drop-shadow(0px 1px 2px rgba(0, 0, 0, 0.3));\n",
              "      fill: #FFFFFF;\n",
              "    }\n",
              "  </style>\n",
              "\n",
              "      <script>\n",
              "        const buttonEl =\n",
              "          document.querySelector('#df-de0ecdd4-a7d9-4a8c-8ea5-fa76becf9243 button.colab-df-convert');\n",
              "        buttonEl.style.display =\n",
              "          google.colab.kernel.accessAllowed ? 'block' : 'none';\n",
              "\n",
              "        async function convertToInteractive(key) {\n",
              "          const element = document.querySelector('#df-de0ecdd4-a7d9-4a8c-8ea5-fa76becf9243');\n",
              "          const dataTable =\n",
              "            await google.colab.kernel.invokeFunction('convertToInteractive',\n",
              "                                                     [key], {});\n",
              "          if (!dataTable) return;\n",
              "\n",
              "          const docLinkHtml = 'Like what you see? Visit the ' +\n",
              "            '<a target=\"_blank\" href=https://colab.research.google.com/notebooks/data_table.ipynb>data table notebook</a>'\n",
              "            + ' to learn more about interactive tables.';\n",
              "          element.innerHTML = '';\n",
              "          dataTable['output_type'] = 'display_data';\n",
              "          await google.colab.output.renderOutput(dataTable, element);\n",
              "          const docLink = document.createElement('div');\n",
              "          docLink.innerHTML = docLinkHtml;\n",
              "          element.appendChild(docLink);\n",
              "        }\n",
              "      </script>\n",
              "    </div>\n",
              "  </div>\n",
              "  "
            ]
          },
          "metadata": {},
          "execution_count": 14
        }
      ]
    },
    {
      "cell_type": "markdown",
      "source": [
        "Values are mapped to the labels it will easy to process data easily"
      ],
      "metadata": {
        "id": "AXy5op9dEa0d"
      }
    },
    {
      "cell_type": "markdown",
      "source": [
        "**Data Visualization**"
      ],
      "metadata": {
        "id": "I3jQp0x2ElyV"
      }
    },
    {
      "cell_type": "code",
      "source": [
        "# Importing essential libraries for visualization\n",
        "import matplotlib.pyplot as plt\n",
        "import seaborn as sns\n",
        "%matplotlib inline"
      ],
      "metadata": {
        "id": "SZWc7D9kkUwX"
      },
      "execution_count": 15,
      "outputs": []
    },
    {
      "cell_type": "code",
      "source": [
        "plt.figure(figsize=(8,8))\n",
        "g = sns.countplot(x='label', data=train_df)\n",
        "p = plt.title('Different Labels present in Dataset')\n",
        "p = plt.xlabel('Labels')\n",
        "p = plt.ylabel('Count')"
      ],
      "metadata": {
        "colab": {
          "base_uri": "https://localhost:8080/",
          "height": 513
        },
        "id": "bszU5UbUk1Qf",
        "outputId": "41aeb787-5e88-4fdb-84c1-92e454e6f7ad"
      },
      "execution_count": 19,
      "outputs": [
        {
          "output_type": "display_data",
          "data": {
            "text/plain": [
              "<Figure size 576x576 with 1 Axes>"
            ],
            "image/png": "[encoded data removed]"
          },
          "metadata": {
            "needs_background": "light"
          }
        }
      ]
    },
    {
      "cell_type": "markdown",
      "source": [
        "# Feature Engineering\n"
      ],
      "metadata": {
        "id": "AITEvwWplAr9"
      }
    },
    {
      "cell_type": "code",
      "source": [
        "# Creating new feature word_count\n",
        "train_df['word_count'] = train_df['text'].apply(lambda x: len(x.split()))"
      ],
      "metadata": {
        "id": "KkTOc2Pek3nO"
      },
      "execution_count": 20,
      "outputs": []
    },
    {
      "cell_type": "code",
      "source": [
        "train_df.head()"
      ],
      "metadata": {
        "colab": {
          "base_uri": "https://localhost:8080/",
          "height": 206
        },
        "id": "FGH7TNwhlP1Q",
        "outputId": "84544975-3c37-4831-c9c9-56f043f8fe7b"
      },
      "execution_count": 21,
      "outputs": [
        {
          "output_type": "execute_result",
          "data": {
            "text/plain": [
              "                           text  label  word_count\n",
              "0                 zucker fabrik      0           2\n",
              "1  Lebensmittel kommssionierung      0           2\n",
              "2               geländer biegen      3           2\n",
              "3  gebäudeausrüstung technische      2           2\n",
              "4         kürbiskernöl softgels      0           2"
            ],
            "text/html": [
              "\n",
              "  <div id=\"df-0ff5d5d3-c181-4c8b-8c7a-5e7db13d34f5\">\n",
              "    <div class=\"colab-df-container\">\n",
              "      <div>\n",
              "<style scoped>\n",
              "    .dataframe tbody tr th:only-of-type {\n",
              "        vertical-align: middle;\n",
              "    }\n",
              "\n",
              "    .dataframe tbody tr th {\n",
              "        vertical-align: top;\n",
              "    }\n",
              "\n",
              "    .dataframe thead th {\n",
              "        text-align: right;\n",
              "    }\n",
              "</style>\n",
              "<table border=\"1\" class=\"dataframe\">\n",
              "  <thead>\n",
              "    <tr style=\"text-align: right;\">\n",
              "      <th></th>\n",
              "      <th>text</th>\n",
              "      <th>label</th>\n",
              "      <th>word_count</th>\n",
              "    </tr>\n",
              "  </thead>\n",
              "  <tbody>\n",
              "    <tr>\n",
              "      <th>0</th>\n",
              "      <td>zucker fabrik</td>\n",
              "      <td>0</td>\n",
              "      <td>2</td>\n",
              "    </tr>\n",
              "    <tr>\n",
              "      <th>1</th>\n",
              "      <td>Lebensmittel kommssionierung</td>\n",
              "      <td>0</td>\n",
              "      <td>2</td>\n",
              "    </tr>\n",
              "    <tr>\n",
              "      <th>2</th>\n",
              "      <td>geländer biegen</td>\n",
              "      <td>3</td>\n",
              "      <td>2</td>\n",
              "    </tr>\n",
              "    <tr>\n",
              "      <th>3</th>\n",
              "      <td>gebäudeausrüstung technische</td>\n",
              "      <td>2</td>\n",
              "      <td>2</td>\n",
              "    </tr>\n",
              "    <tr>\n",
              "      <th>4</th>\n",
              "      <td>kürbiskernöl softgels</td>\n",
              "      <td>0</td>\n",
              "      <td>2</td>\n",
              "    </tr>\n",
              "  </tbody>\n",
              "</table>\n",
              "</div>\n",
              "      <button class=\"colab-df-convert\" onclick=\"convertToInteractive('df-0ff5d5d3-c181-4c8b-8c7a-5e7db13d34f5')\"\n",
              "              title=\"Convert this dataframe to an interactive table.\"\n",
              "              style=\"display:none;\">\n",
              "        \n",
              "  <svg xmlns=\"http://www.w3.org/2000/svg\" height=\"24px\"viewBox=\"0 0 24 24\"\n",
              "       width=\"24px\">\n",
              "    <path d=\"M0 0h24v24H0V0z\" fill=\"none\"/>\n",
              "    <path d=\"M18.56 5.44l.94 2.06.94-2.06 2.06-.94-2.06-.94-.94-2.06-.94 2.06-2.06.94zm-11 1L8.5 8.5l.94-2.06 2.06-.94-2.06-.94L8.5 2.5l-.94 2.06-2.06.94zm10 10l.94 2.06.94-2.06 2.06-.94-2.06-.94-.94-2.06-.94 2.06-2.06.94z\"/><path d=\"M17.41 7.96l-1.37-1.37c-.4-.4-.92-.59-1.43-.59-.52 0-1.04.2-1.43.59L10.3 9.45l-7.72 7.72c-.78.78-.78 2.05 0 2.83L4 21.41c.39.39.9.59 1.41.59.51 0 1.02-.2 1.41-.59l7.78-7.78 2.81-2.81c.8-.78.8-2.07 0-2.86zM5.41 20L4 18.59l7.72-7.72 1.47 1.35L5.41 20z\"/>\n",
              "  </svg>\n",
              "      </button>\n",
              "      \n",
              "  <style>\n",
              "    .colab-df-container {\n",
              "      display:flex;\n",
              "      flex-wrap:wrap;\n",
              "      gap: 12px;\n",
              "    }\n",
              "\n",
              "    .colab-df-convert {\n",
              "      background-color: #E8F0FE;\n",
              "      border: none;\n",
              "      border-radius: 50%;\n",
              "      cursor: pointer;\n",
              "      display: none;\n",
              "      fill: #1967D2;\n",
              "      height: 32px;\n",
              "      padding: 0 0 0 0;\n",
              "      width: 32px;\n",
              "    }\n",
              "\n",
              "    .colab-df-convert:hover {\n",
              "      background-color: #E2EBFA;\n",
              "      box-shadow: 0px 1px 2px rgba(60, 64, 67, 0.3), 0px 1px 3px 1px rgba(60, 64, 67, 0.15);\n",
              "      fill: #174EA6;\n",
              "    }\n",
              "\n",
              "    [theme=dark] .colab-df-convert {\n",
              "      background-color: #3B4455;\n",
              "      fill: #D2E3FC;\n",
              "    }\n",
              "\n",
              "    [theme=dark] .colab-df-convert:hover {\n",
              "      background-color: #434B5C;\n",
              "      box-shadow: 0px 1px 3px 1px rgba(0, 0, 0, 0.15);\n",
              "      filter: drop-shadow(0px 1px 2px rgba(0, 0, 0, 0.3));\n",
              "      fill: #FFFFFF;\n",
              "    }\n",
              "  </style>\n",
              "\n",
              "      <script>\n",
              "        const buttonEl =\n",
              "          document.querySelector('#df-0ff5d5d3-c181-4c8b-8c7a-5e7db13d34f5 button.colab-df-convert');\n",
              "        buttonEl.style.display =\n",
              "          google.colab.kernel.accessAllowed ? 'block' : 'none';\n",
              "\n",
              "        async function convertToInteractive(key) {\n",
              "          const element = document.querySelector('#df-0ff5d5d3-c181-4c8b-8c7a-5e7db13d34f5');\n",
              "          const dataTable =\n",
              "            await google.colab.kernel.invokeFunction('convertToInteractive',\n",
              "                                                     [key], {});\n",
              "          if (!dataTable) return;\n",
              "\n",
              "          const docLinkHtml = 'Like what you see? Visit the ' +\n",
              "            '<a target=\"_blank\" href=https://colab.research.google.com/notebooks/data_table.ipynb>data table notebook</a>'\n",
              "            + ' to learn more about interactive tables.';\n",
              "          element.innerHTML = '';\n",
              "          dataTable['output_type'] = 'display_data';\n",
              "          await google.colab.output.renderOutput(dataTable, element);\n",
              "          const docLink = document.createElement('div');\n",
              "          docLink.innerHTML = docLinkHtml;\n",
              "          element.appendChild(docLink);\n",
              "        }\n",
              "      </script>\n",
              "    </div>\n",
              "  </div>\n",
              "  "
            ]
          },
          "metadata": {},
          "execution_count": 21
        }
      ]
    },
    {
      "cell_type": "code",
      "source": [
        "# Split dataset into train and test\n",
        "from sklearn.model_selection import train_test_split\n",
        "train, test = train_test_split(train_df, stratify = train_df['label'],  test_size = 0.2, random_state = 12) \n",
        "train['label'].value_counts()"
      ],
      "metadata": {
        "colab": {
          "base_uri": "https://localhost:8080/"
        },
        "id": "3TcUlOe5nqEJ",
        "outputId": "50a452b2-bedc-402a-d055-637397126be6"
      },
      "execution_count": 22,
      "outputs": [
        {
          "output_type": "execute_result",
          "data": {
            "text/plain": [
              "0    8981\n",
              "1    7693\n",
              "2    4049\n",
              "3    4013\n",
              "4    2950\n",
              "5    2070\n",
              "Name: label, dtype: int64"
            ]
          },
          "metadata": {},
          "execution_count": 22
        }
      ]
    },
    {
      "cell_type": "code",
      "source": [
        "test['label'].value_counts()"
      ],
      "metadata": {
        "colab": {
          "base_uri": "https://localhost:8080/"
        },
        "id": "Loa3TA2bn_2R",
        "outputId": "a5b39e04-b642-4ceb-a8b4-c1289ca1bca6"
      },
      "execution_count": 23,
      "outputs": [
        {
          "output_type": "execute_result",
          "data": {
            "text/plain": [
              "0    2245\n",
              "1    1924\n",
              "2    1012\n",
              "3    1003\n",
              "4     738\n",
              "5     517\n",
              "Name: label, dtype: int64"
            ]
          },
          "metadata": {},
          "execution_count": 23
        }
      ]
    },
    {
      "cell_type": "code",
      "source": [
        "# How many samples total?\n",
        "print(f\"Total training samples: {len(train)}\")\n",
        "print(f\"Total test samples: {len(test)}\")\n",
        "print(f\"Total samples: {len(train) + len(test)}\")"
      ],
      "metadata": {
        "colab": {
          "base_uri": "https://localhost:8080/"
        },
        "id": "V5480YkHoEp0",
        "outputId": "30461af5-eb88-4b14-8d23-e002eac19b57"
      },
      "execution_count": 24,
      "outputs": [
        {
          "output_type": "stream",
          "name": "stdout",
          "text": [
            "Total training samples: 29756\n",
            "Total test samples: 7439\n",
            "Total samples: 37195\n"
          ]
        }
      ]
    },
    {
      "cell_type": "code",
      "source": [
        "from sklearn.model_selection import train_test_split\n",
        "\n",
        "# Use train_test_split to split training data into training and validation sets\n",
        "train_sentences, val_sentences, train_labels, val_labels = train_test_split(train_df[\"text\"].to_numpy(),\n",
        "                                                                            train_df[\"label\"].to_numpy(),\n",
        "                                                                            test_size=0.2, # dedicate 20% of samples to validation set\n",
        "                                                                            random_state=42) # random state for reproducibility"
      ],
      "metadata": {
        "id": "Uv5omQ7FoQq5"
      },
      "execution_count": 25,
      "outputs": []
    },
    {
      "cell_type": "code",
      "source": [
        "# Check the lengths\n",
        "len(train_sentences), len(train_labels), len(val_sentences), len(val_labels)"
      ],
      "metadata": {
        "colab": {
          "base_uri": "https://localhost:8080/"
        },
        "id": "iJKG5zqhobY5",
        "outputId": "f0b4219d-7264-4a1d-c9c1-098e72013e38"
      },
      "execution_count": 26,
      "outputs": [
        {
          "output_type": "execute_result",
          "data": {
            "text/plain": [
              "(29756, 29756, 7439, 7439)"
            ]
          },
          "metadata": {},
          "execution_count": 26
        }
      ]
    },
    {
      "cell_type": "code",
      "source": [
        "# View the first 10 training sentences and their labels\n",
        "train_sentences[:10], train_labels[:10]"
      ],
      "metadata": {
        "colab": {
          "base_uri": "https://localhost:8080/"
        },
        "id": "7FtHsfARofXk",
        "outputId": "f1219fd0-2a12-4604-f94d-caec6e446993"
      },
      "execution_count": 27,
      "outputs": [
        {
          "output_type": "execute_result",
          "data": {
            "text/plain": [
              "(array(['obst und Gemüse  Quakenbrück', 'Pulver zum beschichten',\n",
              "        'Lohnabfüllung von Ampullen für lebensmittel Lösungen',\n",
              "        'carports aus aluminium kreis coburg', 'cornflakes bio',\n",
              "        'kraftpapier doypack', 'Stanz und Biegeteile',\n",
              "        'Bio-Saatgut erbsen', 'kantenschutz klemmprofile',\n",
              "        'Plastik Flasche mit Druck'], dtype=object),\n",
              " array([0, 0, 1, 2, 0, 1, 5, 0, 1, 1]))"
            ]
          },
          "metadata": {},
          "execution_count": 27
        }
      ]
    },
    {
      "cell_type": "markdown",
      "source": [
        "# Text vectorization (tokenization)"
      ],
      "metadata": {
        "id": "pq8MEfNSom0M"
      }
    },
    {
      "cell_type": "code",
      "source": [
        "import tensorflow as tf\n",
        "from tensorflow.keras.layers.experimental.preprocessing import TextVectorization\n",
        "\n",
        "# Use the default TextVectorization variables\n",
        "text_vectorizer = TextVectorization(max_tokens=None, # how many words in the vocabulary (all of the different words in your text)\n",
        "                                    standardize=\"lower_and_strip_punctuation\", # how to process text\n",
        "                                    split=\"whitespace\", # how to split tokens\n",
        "                                    ngrams=None, # create groups of n-words?\n",
        "                                    output_mode=\"int\", # how to map tokens to numbers\n",
        "                                    output_sequence_length=None) # how long should the output sequence of tokens be?\n",
        "                                    # pad_to_max_tokens=True) # Not valid if using max_tokens=None"
      ],
      "metadata": {
        "id": "hiohfSekoix0"
      },
      "execution_count": 35,
      "outputs": []
    },
    {
      "cell_type": "code",
      "source": [
        "# Find average number of tokens (words) in training data\n",
        "round(sum([len(i.split()) for i in train_sentences])/len(train_sentences))"
      ],
      "metadata": {
        "colab": {
          "base_uri": "https://localhost:8080/"
        },
        "id": "4B2na3zGoqX-",
        "outputId": "71ed73a0-70e2-4070-c001-e8fb3df65951"
      },
      "execution_count": 36,
      "outputs": [
        {
          "output_type": "execute_result",
          "data": {
            "text/plain": [
              "2"
            ]
          },
          "metadata": {},
          "execution_count": 36
        }
      ]
    },
    {
      "cell_type": "code",
      "source": [
        "# Setup text vectorization with custom variables\n",
        "max_vocab_length = 10000 # max number of words to have in our vocabulary\n",
        "max_length = 15 # max length our sequences will be\n",
        "\n",
        "text_vectorizer = TextVectorization(max_tokens=max_vocab_length,\n",
        "                                    output_mode=\"int\",\n",
        "                                    output_sequence_length=max_length)"
      ],
      "metadata": {
        "id": "tnjz2LVZowrE"
      },
      "execution_count": 37,
      "outputs": []
    },
    {
      "cell_type": "code",
      "source": [
        "# Fit the text vectorizer to the training text\n",
        "text_vectorizer.adapt(train_sentences)"
      ],
      "metadata": {
        "id": "JajBxe1CozZe"
      },
      "execution_count": 38,
      "outputs": []
    },
    {
      "cell_type": "code",
      "source": [
        "# Create sample sentence and tokenize it\n",
        "sample_sentence = \"Lebensmittel, amerikanische süssigkeiten\"\n",
        "text_vectorizer([sample_sentence])"
      ],
      "metadata": {
        "colab": {
          "base_uri": "https://localhost:8080/"
        },
        "id": "EBhPrnBpo1iq",
        "outputId": "d780640f-de2e-4256-c619-34489a4b9b5c"
      },
      "execution_count": 39,
      "outputs": [
        {
          "output_type": "execute_result",
          "data": {
            "text/plain": [
              "<tf.Tensor: shape=(1, 15), dtype=int64, numpy=\n",
              "array([[   6,  896, 8048,    0,    0,    0,    0,    0,    0,    0,    0,\n",
              "           0,    0,    0,    0]])>"
            ]
          },
          "metadata": {},
          "execution_count": 39
        }
      ]
    },
    {
      "cell_type": "code",
      "source": [
        "# Choose a random sentence from the training dataset and tokenize it\n",
        "import random\n",
        "random_sentence = random.choice(train_sentences)\n",
        "print(f\"Original text:\\n{random_sentence}\\\n",
        "      \\n\\nVectorized version:\")\n",
        "text_vectorizer([random_sentence])"
      ],
      "metadata": {
        "colab": {
          "base_uri": "https://localhost:8080/"
        },
        "id": "o47s7V6io4Pi",
        "outputId": "0afcd061-4809-4843-c66a-f0284cd9b242"
      },
      "execution_count": 40,
      "outputs": [
        {
          "output_type": "stream",
          "name": "stdout",
          "text": [
            "Original text:\n",
            "pulver aus Yakwolle      \n",
            "\n",
            "Vectorized version:\n"
          ]
        },
        {
          "output_type": "execute_result",
          "data": {
            "text/plain": [
              "<tf.Tensor: shape=(1, 15), dtype=int64, numpy=\n",
              "array([[  20,    7, 6419,    0,    0,    0,    0,    0,    0,    0,    0,\n",
              "           0,    0,    0,    0]])>"
            ]
          },
          "metadata": {},
          "execution_count": 40
        }
      ]
    },
    {
      "cell_type": "code",
      "source": [
        "# Get the unique words in the vocabulary\n",
        "words_in_vocab = text_vectorizer.get_vocabulary()\n",
        "top_5_words = words_in_vocab[:5] # most common tokens \n",
        "bottom_5_words = words_in_vocab[-5:] # least common tokens\n",
        "print(f\"Number of words in vocab: {len(words_in_vocab)}\")\n",
        "print(f\"Top 5 most common words: {top_5_words}\") \n",
        "print(f\"Bottom 5 least common words: {bottom_5_words}\")"
      ],
      "metadata": {
        "colab": {
          "base_uri": "https://localhost:8080/"
        },
        "id": "cLwZ2qn7o6oc",
        "outputId": "1972b0cb-6fc7-4be8-f213-6bee64b87aa6"
      },
      "execution_count": 41,
      "outputs": [
        {
          "output_type": "stream",
          "name": "stdout",
          "text": [
            "Number of words in vocab: 10000\n",
            "Top 5 most common words: ['', '[UNK]', 'für', 'von', 'und']\n",
            "Bottom 5 least common words: ['prozesstechniken', 'prozesstechhnik', 'prozessen', 'prozessautomatisierung', 'prozessanlagen']\n"
          ]
        }
      ]
    },
    {
      "cell_type": "markdown",
      "source": [
        "# Creating an Embedding using an Embedding Layer\n"
      ],
      "metadata": {
        "id": "NvZqy6TBo_sc"
      }
    },
    {
      "cell_type": "code",
      "source": [
        "tf.random.set_seed(42)\n",
        "from tensorflow.keras import layers\n",
        "\n",
        "embedding = layers.Embedding(input_dim=max_vocab_length, # set input shape\n",
        "                             output_dim=128, # set size of embedding vector\n",
        "                             embeddings_initializer=\"uniform\", # default, intialize randomly\n",
        "                             input_length=max_length, # how long is each input\n",
        "                             name=\"embedding_1\") \n",
        "\n",
        "embedding"
      ],
      "metadata": {
        "colab": {
          "base_uri": "https://localhost:8080/"
        },
        "id": "DLVD48Cdo8k-",
        "outputId": "b16110c0-96e6-489a-9117-447201a9eff6"
      },
      "execution_count": 42,
      "outputs": [
        {
          "output_type": "execute_result",
          "data": {
            "text/plain": [
              "<keras.layers.embeddings.Embedding at 0x7f0365e5d890>"
            ]
          },
          "metadata": {},
          "execution_count": 42
        }
      ]
    },
    {
      "cell_type": "code",
      "source": [
        "# Get a random sentence from training set\n",
        "random_sentence = random.choice(train_sentences)\n",
        "print(f\"Original text:\\n{random_sentence}\\\n",
        "      \\n\\nEmbedded version:\")\n",
        "\n",
        "# Embed the random sentence (turn it into numerical representation)\n",
        "sample_embed = embedding(text_vectorizer([random_sentence]))\n",
        "sample_embed"
      ],
      "metadata": {
        "colab": {
          "base_uri": "https://localhost:8080/"
        },
        "id": "qrx9tZOMpCp0",
        "outputId": "5ff0ab86-9ffb-4d56-ae1e-399c8ca1971e"
      },
      "execution_count": 43,
      "outputs": [
        {
          "output_type": "stream",
          "name": "stdout",
          "text": [
            "Original text:\n",
            "makronen bäcker      \n",
            "\n",
            "Embedded version:\n"
          ]
        },
        {
          "output_type": "execute_result",
          "data": {
            "text/plain": [
              "<tf.Tensor: shape=(1, 15, 128), dtype=float32, numpy=\n",
              "array([[[ 0.04129913, -0.02865252, -0.01482606, ..., -0.00723407,\n",
              "          0.01147431, -0.04768883],\n",
              "        [-0.03245186,  0.01450691,  0.00827923, ..., -0.03481132,\n",
              "         -0.03928901, -0.00051349],\n",
              "        [ 0.01645621, -0.00589932, -0.01471175, ..., -0.02511839,\n",
              "          0.00912381, -0.00024097],\n",
              "        ...,\n",
              "        [ 0.01645621, -0.00589932, -0.01471175, ..., -0.02511839,\n",
              "          0.00912381, -0.00024097],\n",
              "        [ 0.01645621, -0.00589932, -0.01471175, ..., -0.02511839,\n",
              "          0.00912381, -0.00024097],\n",
              "        [ 0.01645621, -0.00589932, -0.01471175, ..., -0.02511839,\n",
              "          0.00912381, -0.00024097]]], dtype=float32)>"
            ]
          },
          "metadata": {},
          "execution_count": 43
        }
      ]
    },
    {
      "cell_type": "code",
      "source": [
        "# Check out a single token's embedding\n",
        "sample_embed[0][0]"
      ],
      "metadata": {
        "colab": {
          "base_uri": "https://localhost:8080/"
        },
        "id": "ZSOEt4F7pFNe",
        "outputId": "cddb0dbd-0b8d-4b46-b2b2-66a1725c8bbf"
      },
      "execution_count": 44,
      "outputs": [
        {
          "output_type": "execute_result",
          "data": {
            "text/plain": [
              "<tf.Tensor: shape=(128,), dtype=float32, numpy=\n",
              "array([ 0.04129913, -0.02865252, -0.01482606,  0.02823616,  0.01983162,\n",
              "       -0.02139828,  0.0054974 , -0.00815241, -0.02882559, -0.02960945,\n",
              "        0.04717665, -0.0131711 ,  0.00765377,  0.02874524, -0.00218536,\n",
              "       -0.01546093,  0.03506589, -0.03050628, -0.03699159, -0.03670291,\n",
              "       -0.03151255, -0.00612421, -0.01571156, -0.0040246 ,  0.03110925,\n",
              "       -0.00775226,  0.03317303,  0.02348443, -0.04333979,  0.02058497,\n",
              "        0.02832306,  0.0451092 , -0.01804615, -0.02063317,  0.03842965,\n",
              "       -0.02030325, -0.01354517,  0.01424891, -0.00225397, -0.00589752,\n",
              "       -0.0257404 , -0.00145662, -0.02541131,  0.02171041, -0.02905586,\n",
              "       -0.00517354,  0.04836161, -0.04359684, -0.03478447, -0.04610673,\n",
              "       -0.00359074,  0.02792999, -0.01724799,  0.04764486,  0.01574698,\n",
              "        0.01908528, -0.02474741,  0.03719355,  0.02348651,  0.04299246,\n",
              "        0.03594892,  0.02978529, -0.02894433, -0.00523807, -0.01423055,\n",
              "        0.02647385, -0.00583722, -0.02402225, -0.04319875, -0.00519929,\n",
              "       -0.04558225, -0.03530619, -0.0333373 , -0.00475483,  0.03611542,\n",
              "        0.02416438, -0.03432931,  0.02590391,  0.04880799, -0.01918403,\n",
              "        0.0043555 , -0.03524012,  0.03883635,  0.03743236, -0.04379455,\n",
              "       -0.03407739,  0.02490063, -0.03517849, -0.01797427,  0.01140627,\n",
              "        0.03233263, -0.02656404, -0.0490295 , -0.00396143, -0.02549921,\n",
              "       -0.0396117 ,  0.01959061,  0.02569213, -0.02773328,  0.01460686,\n",
              "        0.03035035, -0.00730333,  0.03866347, -0.02564013,  0.02936644,\n",
              "       -0.01876745, -0.04880397,  0.04420252,  0.02443138,  0.02321896,\n",
              "        0.01483096,  0.03322591, -0.02447701,  0.00806914,  0.03620658,\n",
              "       -0.03082664,  0.03240312,  0.01139278, -0.01818852, -0.01347508,\n",
              "       -0.02322317, -0.04401238, -0.04953181, -0.01640362, -0.03052032,\n",
              "       -0.00723407,  0.01147431, -0.04768883], dtype=float32)>"
            ]
          },
          "metadata": {},
          "execution_count": 44
        }
      ]
    },
    {
      "cell_type": "markdown",
      "source": [
        "# Modelling a text dataset\n",
        "## Model 0: Create Base Model to compare our model result with sequential model and functional model \n"
      ],
      "metadata": {
        "id": "LOhbpbfSpKok"
      }
    },
    {
      "cell_type": "code",
      "source": [
        "from sklearn.feature_extraction.text import TfidfVectorizer\n",
        "from sklearn.naive_bayes import MultinomialNB\n",
        "from sklearn.pipeline import Pipeline\n",
        "\n",
        "# Create tokenization and modelling pipeline\n",
        "model_0 = Pipeline([\n",
        "                    (\"tfidf\", TfidfVectorizer()), # convert words to numbers using tfidf\n",
        "                    (\"clf\", MultinomialNB()) # model the text\n",
        "])\n",
        "\n",
        "# Fit the pipeline to the training data\n",
        "model_0.fit(train_sentences, train_labels)"
      ],
      "metadata": {
        "colab": {
          "base_uri": "https://localhost:8080/"
        },
        "id": "8VzG5TY6pG-F",
        "outputId": "4c2d5db1-071c-4fe9-c15f-a8d24d1e5197"
      },
      "execution_count": 45,
      "outputs": [
        {
          "output_type": "execute_result",
          "data": {
            "text/plain": [
              "Pipeline(steps=[('tfidf', TfidfVectorizer()), ('clf', MultinomialNB())])"
            ]
          },
          "metadata": {},
          "execution_count": 45
        }
      ]
    },
    {
      "cell_type": "code",
      "source": [
        "baseline_score = model_0.score(val_sentences, val_labels)  #check score \n",
        "print(f\"Our baseline model achieves an accuracy of: {baseline_score*100:.2f}%\")"
      ],
      "metadata": {
        "colab": {
          "base_uri": "https://localhost:8080/"
        },
        "id": "JQETaFv4pI6n",
        "outputId": "6ba4d6d4-7e65-4725-fc87-2e198ecb15fa"
      },
      "execution_count": 46,
      "outputs": [
        {
          "output_type": "stream",
          "name": "stdout",
          "text": [
            "Our baseline model achieves an accuracy of: 84.96%\n"
          ]
        }
      ]
    },
    {
      "cell_type": "code",
      "source": [
        "# Make predictions\n",
        "baseline_preds = model_0.predict(val_sentences)\n",
        "baseline_preds[:20]"
      ],
      "metadata": {
        "colab": {
          "base_uri": "https://localhost:8080/"
        },
        "id": "VGjd8mfgpPfK",
        "outputId": "023b0eed-6c5b-4a88-e284-1960edb20692"
      },
      "execution_count": 47,
      "outputs": [
        {
          "output_type": "execute_result",
          "data": {
            "text/plain": [
              "array([3, 1, 2, 1, 3, 0, 0, 0, 5, 4, 5, 0, 3, 1, 1, 0, 2, 3, 0, 3])"
            ]
          },
          "metadata": {},
          "execution_count": 47
        }
      ]
    },
    {
      "cell_type": "code",
      "source": [
        "# Function to evaluate: accuracy, precision, recall, f1-score\n",
        "from sklearn.metrics import accuracy_score, precision_recall_fscore_support\n",
        "\n",
        "def calculate_results(y_true, y_pred):\n",
        "  # Calculate model accuracy\n",
        "  model_accuracy = accuracy_score(y_true, y_pred) * 100\n",
        "  # Calculate model precision, recall and f1 score using \"weighted\" average\n",
        "  model_precision, model_recall, model_f1, _ = precision_recall_fscore_support(y_true, y_pred, average=\"weighted\")\n",
        "  model_results = {\"accuracy\": model_accuracy,\n",
        "                  \"precision\": model_precision,\n",
        "                  \"recall\": model_recall,\n",
        "                  \"f1\": model_f1}\n",
        "  return model_results"
      ],
      "metadata": {
        "id": "16KDxbunpRRw"
      },
      "execution_count": 48,
      "outputs": []
    },
    {
      "cell_type": "code",
      "source": [
        "# Get baseline results\n",
        "baseline_results = calculate_results(y_true=val_labels,\n",
        "                                     y_pred=baseline_preds)\n",
        "baseline_results"
      ],
      "metadata": {
        "colab": {
          "base_uri": "https://localhost:8080/"
        },
        "id": "NbupE-uopTZO",
        "outputId": "e4959d17-7457-4b4f-d738-25fd29a56e11"
      },
      "execution_count": 49,
      "outputs": [
        {
          "output_type": "execute_result",
          "data": {
            "text/plain": [
              "{'accuracy': 84.95765559887082,\n",
              " 'f1': 0.8469521198478849,\n",
              " 'precision': 0.8587417427958923,\n",
              " 'recall': 0.8495765559887082}"
            ]
          },
          "metadata": {},
          "execution_count": 49
        }
      ]
    },
    {
      "cell_type": "markdown",
      "source": [
        "# Model 1: A simple dense model\n"
      ],
      "metadata": {
        "id": "-OJSuHT9pXgd"
      }
    },
    {
      "cell_type": "code",
      "source": [
        "# create  callback function\n",
        "import datetime\n",
        "def create_tensorboard_callback(dir_name, experiment_name):\n",
        "  log_dir = dir_name + \"/\" + experiment_name + \"/\" + datetime.datetime.now().strftime(\"%Y%m%d-%H%M%S\")\n",
        "  tensorboard_callback = tf.keras.callbacks.TensorBoard(\n",
        "      log_dir=log_dir\n",
        "  )\n",
        "  print(f\"Saving TensorBoard log files to: {log_dir}\")\n",
        "  return tensorboard_callback"
      ],
      "metadata": {
        "id": "6Rh8wPEBHR3y"
      },
      "execution_count": 66,
      "outputs": []
    },
    {
      "cell_type": "code",
      "source": [
        "# Create directory to save TensorBoard logs\n",
        "SAVE_DIR = \"model_logs\""
      ],
      "metadata": {
        "id": "qkbAD97_pZ-u"
      },
      "execution_count": 67,
      "outputs": []
    },
    {
      "cell_type": "markdown",
      "source": [
        "## Functional Api Model "
      ],
      "metadata": {
        "id": "-Y16pp60IJUN"
      }
    },
    {
      "cell_type": "code",
      "source": [
        "# Build model with the Functional API\n",
        "from tensorflow.keras import layers\n",
        "inputs = layers.Input(shape=(1,), dtype=\"string\") # inputs are 1-dimensional strings\n",
        "x = text_vectorizer(inputs) # turn the input text into numbers\n",
        "x = embedding(x) # create an embedding of the numerized numbers\n",
        "x = layers.GlobalAveragePooling1D()(x) # lower the dimensionality of the embedding (try running the model without this layer and see what happens)\n",
        "outputs = layers.Dense(1, activation=\"softmax\")(x) # create the output layer, want multiclass outputs so use softmax activation\n",
        "model_1 = tf.keras.Model(inputs, outputs, name=\"model_1_dense\") # construct the model"
      ],
      "metadata": {
        "id": "qnKNn9iupdno"
      },
      "execution_count": 68,
      "outputs": []
    },
    {
      "cell_type": "code",
      "source": [
        "# Compile model\n",
        "model_1.compile(loss=\"categorical_crossentropy\",\n",
        "                optimizer=tf.keras.optimizers.Adam(),\n",
        "                metrics=[\"accuracy\"])"
      ],
      "metadata": {
        "id": "eMKyaIOEpf0X"
      },
      "execution_count": 69,
      "outputs": []
    },
    {
      "cell_type": "code",
      "source": [
        "# Get a summary of the model\n",
        "model_1.summary()"
      ],
      "metadata": {
        "colab": {
          "base_uri": "https://localhost:8080/"
        },
        "id": "-r6FL4-YphpZ",
        "outputId": "1994664c-ba1d-4c7b-9e23-150c631eede9"
      },
      "execution_count": 70,
      "outputs": [
        {
          "output_type": "stream",
          "name": "stdout",
          "text": [
            "Model: \"model_1_dense\"\n",
            "_________________________________________________________________\n",
            " Layer (type)                Output Shape              Param #   \n",
            "=================================================================\n",
            " input_3 (InputLayer)        [(None, 1)]               0         \n",
            "                                                                 \n",
            " text_vectorization_3 (TextV  (None, 15)               0         \n",
            " ectorization)                                                   \n",
            "                                                                 \n",
            " embedding_1 (Embedding)     (None, 15, 128)           1280000   \n",
            "                                                                 \n",
            " global_average_pooling1d_2   (None, 128)              0         \n",
            " (GlobalAveragePooling1D)                                        \n",
            "                                                                 \n",
            " dense_2 (Dense)             (None, 1)                 129       \n",
            "                                                                 \n",
            "=================================================================\n",
            "Total params: 1,280,129\n",
            "Trainable params: 1,280,129\n",
            "Non-trainable params: 0\n",
            "_________________________________________________________________\n"
          ]
        }
      ]
    },
    {
      "cell_type": "code",
      "source": [
        "# Fit the model\n",
        "model_1_history = model_1.fit(train_sentences, # input sentences can be a list of strings due to text preprocessing layer built-in model\n",
        "                              train_labels,\n",
        "                              epochs=5,\n",
        "                              validation_data=(val_sentences, val_labels),\n",
        "                              callbacks=[create_tensorboard_callback(dir_name=SAVE_DIR, \n",
        "                                                                     experiment_name=\"simple_dense_model\")])"
      ],
      "metadata": {
        "colab": {
          "base_uri": "https://localhost:8080/"
        },
        "id": "apnZQg86p2Wc",
        "outputId": "26123da6-6323-4ee5-98d9-1a3c9c86f19f"
      },
      "execution_count": 71,
      "outputs": [
        {
          "output_type": "stream",
          "name": "stdout",
          "text": [
            "Saving TensorBoard log files to: model_logs/simple_dense_model/20220313-211623\n",
            "Epoch 1/5\n",
            "930/930 [==============================] - 10s 8ms/step - loss: 0.0000e+00 - accuracy: 0.2591 - val_loss: 0.0000e+00 - val_accuracy: 0.2565\n",
            "Epoch 2/5\n",
            "930/930 [==============================] - 6s 7ms/step - loss: 0.0000e+00 - accuracy: 0.2591 - val_loss: 0.0000e+00 - val_accuracy: 0.2565\n",
            "Epoch 3/5\n",
            "930/930 [==============================] - 7s 8ms/step - loss: 0.0000e+00 - accuracy: 0.2591 - val_loss: 0.0000e+00 - val_accuracy: 0.2565\n",
            "Epoch 4/5\n",
            "930/930 [==============================] - 7s 8ms/step - loss: 0.0000e+00 - accuracy: 0.2591 - val_loss: 0.0000e+00 - val_accuracy: 0.2565\n",
            "Epoch 5/5\n",
            "930/930 [==============================] - 7s 7ms/step - loss: 0.0000e+00 - accuracy: 0.2591 - val_loss: 0.0000e+00 - val_accuracy: 0.2565\n"
          ]
        }
      ]
    },
    {
      "cell_type": "code",
      "source": [
        "# Check the results\n",
        "model_1.evaluate(val_sentences, val_labels)"
      ],
      "metadata": {
        "colab": {
          "base_uri": "https://localhost:8080/"
        },
        "id": "aPI1dKmZpnI1",
        "outputId": "58091878-506c-41e1-9d27-341a6ef8d92c"
      },
      "execution_count": 72,
      "outputs": [
        {
          "output_type": "stream",
          "name": "stdout",
          "text": [
            "233/233 [==============================] - 1s 4ms/step - loss: 0.0000e+00 - accuracy: 0.2565\n"
          ]
        },
        {
          "output_type": "execute_result",
          "data": {
            "text/plain": [
              "[0.0, 0.25648608803749084]"
            ]
          },
          "metadata": {},
          "execution_count": 72
        }
      ]
    },
    {
      "cell_type": "code",
      "source": [
        "embedding.weights"
      ],
      "metadata": {
        "colab": {
          "base_uri": "https://localhost:8080/"
        },
        "id": "QeSAptKXqOYy",
        "outputId": "85bf9c0b-ce7b-464c-ef29-d74eab21686a"
      },
      "execution_count": 73,
      "outputs": [
        {
          "output_type": "execute_result",
          "data": {
            "text/plain": [
              "[<tf.Variable 'embedding_1/embeddings:0' shape=(10000, 128) dtype=float32, numpy=\n",
              " array([[ 5.81170702e+00, -5.83500385e+00,  5.91255665e+00, ...,\n",
              "         -5.82514811e+00, -5.79759169e+00, -5.82825232e+00],\n",
              "        [ 4.83188629e+00, -4.85764074e+00,  4.86468887e+00, ...,\n",
              "         -4.79368067e+00, -4.76816130e+00, -4.79090071e+00],\n",
              "        [ 3.85223651e+00, -3.82239866e+00,  3.92932963e+00, ...,\n",
              "         -3.87642097e+00, -3.86405087e+00, -3.85277367e+00],\n",
              "        ...,\n",
              "        [-3.30144390e-02, -5.24929911e-03, -4.20972481e-02, ...,\n",
              "          2.02876367e-02,  3.08806822e-03,  2.21579187e-02],\n",
              "        [ 1.81000382e-01, -1.16197020e-01,  1.47846028e-01, ...,\n",
              "         -1.49515927e-01, -1.06089756e-01, -1.33390650e-01],\n",
              "        [-8.85692164e-02,  1.13592066e-01, -1.29945204e-01, ...,\n",
              "          1.65185720e-01,  9.72599015e-02,  7.19661489e-02]], dtype=float32)>]"
            ]
          },
          "metadata": {},
          "execution_count": 73
        }
      ]
    },
    {
      "cell_type": "code",
      "source": [
        "# Make predictions (these come back in the form of probabilities)\n",
        "model_1_pred_probs = model_1.predict(val_sentences)\n",
        "model_1_pred_probs[:10] # only print out the first 10 prediction probabilities"
      ],
      "metadata": {
        "colab": {
          "base_uri": "https://localhost:8080/"
        },
        "id": "3-Uf2oUDqWOu",
        "outputId": "b724bcfa-b5ad-40e1-d7a3-693c5a02de22"
      },
      "execution_count": 76,
      "outputs": [
        {
          "output_type": "execute_result",
          "data": {
            "text/plain": [
              "array([[1.],\n",
              "       [1.],\n",
              "       [1.],\n",
              "       [1.],\n",
              "       [1.],\n",
              "       [1.],\n",
              "       [1.],\n",
              "       [1.],\n",
              "       [1.],\n",
              "       [1.]], dtype=float32)"
            ]
          },
          "metadata": {},
          "execution_count": 76
        }
      ]
    },
    {
      "cell_type": "code",
      "source": [
        "# Turn prediction probabilities into single-dimension tensor of floats\n",
        "model_1_preds = tf.squeeze(tf.round(model_1_pred_probs)) # squeeze removes single dimensions\n",
        "model_1_preds[:20]"
      ],
      "metadata": {
        "colab": {
          "base_uri": "https://localhost:8080/"
        },
        "id": "7cnqNW7iqctk",
        "outputId": "10fdd658-4171-4fec-f454-576934061d48"
      },
      "execution_count": 77,
      "outputs": [
        {
          "output_type": "execute_result",
          "data": {
            "text/plain": [
              "<tf.Tensor: shape=(20,), dtype=float32, numpy=\n",
              "array([1., 1., 1., 1., 1., 1., 1., 1., 1., 1., 1., 1., 1., 1., 1., 1., 1.,\n",
              "       1., 1., 1.], dtype=float32)>"
            ]
          },
          "metadata": {},
          "execution_count": 77
        }
      ]
    },
    {
      "cell_type": "code",
      "source": [
        "# Calculate model_1 metrics\n",
        "model_1_results = calculate_results(y_true=val_labels, \n",
        "                                    y_pred=model_1_preds)\n",
        "model_1_results"
      ],
      "metadata": {
        "colab": {
          "base_uri": "https://localhost:8080/"
        },
        "id": "8ofGgJheqjlK",
        "outputId": "c096a1d3-5fcb-45d3-ed05-12079eb22843"
      },
      "execution_count": 78,
      "outputs": [
        {
          "output_type": "stream",
          "name": "stderr",
          "text": [
            "/usr/local/lib/python3.7/dist-packages/sklearn/metrics/_classification.py:1318: UndefinedMetricWarning: Precision and F-score are ill-defined and being set to 0.0 in labels with no predicted samples. Use `zero_division` parameter to control this behavior.\n",
            "  _warn_prf(average, modifier, msg_start, len(result))\n"
          ]
        },
        {
          "output_type": "execute_result",
          "data": {
            "text/plain": [
              "{'accuracy': 25.648608683962898,\n",
              " 'f1': 0.10471283913341436,\n",
              " 'precision': 0.0657851127423057,\n",
              " 'recall': 0.256486086839629}"
            ]
          },
          "metadata": {},
          "execution_count": 78
        }
      ]
    },
    {
      "cell_type": "code",
      "source": [
        "# Is our simple Keras model better than our baseline model?\n",
        "import numpy as np\n",
        "np.array(list(model_1_results.values())) > np.array(list(baseline_results.values()))"
      ],
      "metadata": {
        "colab": {
          "base_uri": "https://localhost:8080/"
        },
        "id": "SJfRBQAJqnPC",
        "outputId": "d21d6014-774c-49e9-e2ee-d32a5134f441"
      },
      "execution_count": 79,
      "outputs": [
        {
          "output_type": "execute_result",
          "data": {
            "text/plain": [
              "array([False, False, False, False])"
            ]
          },
          "metadata": {},
          "execution_count": 79
        }
      ]
    },
    {
      "cell_type": "code",
      "source": [
        "# Create a helper function to compare our baseline results to new model results\n",
        "def compare_baseline_to_new_results(baseline_results, new_model_results):\n",
        "  for key, value in baseline_results.items():\n",
        "    print(f\"Baseline {key}: {value:.2f}, New {key}: {new_model_results[key]:.2f}, Difference: {new_model_results[key]-value:.2f}\")\n",
        "\n",
        "compare_baseline_to_new_results(baseline_results=baseline_results, \n",
        "                                new_model_results=model_1_results)"
      ],
      "metadata": {
        "colab": {
          "base_uri": "https://localhost:8080/"
        },
        "id": "k3RZGKbJqr8L",
        "outputId": "37f508e7-c868-4bd9-d646-7e68991521cd"
      },
      "execution_count": 80,
      "outputs": [
        {
          "output_type": "stream",
          "name": "stdout",
          "text": [
            "Baseline accuracy: 84.96, New accuracy: 25.65, Difference: -59.31\n",
            "Baseline precision: 0.86, New precision: 0.07, Difference: -0.79\n",
            "Baseline recall: 0.85, New recall: 0.26, Difference: -0.59\n",
            "Baseline f1: 0.85, New f1: 0.10, Difference: -0.74\n"
          ]
        }
      ]
    },
    {
      "cell_type": "markdown",
      "source": [
        "# Visualizing learned embeddings\n"
      ],
      "metadata": {
        "id": "3dGFVgZ1q0XP"
      }
    },
    {
      "cell_type": "code",
      "source": [
        "# Get the vocabulary from the text vectorization layer\n",
        "words_in_vocab = text_vectorizer.get_vocabulary()\n",
        "len(words_in_vocab), words_in_vocab[:10]"
      ],
      "metadata": {
        "colab": {
          "base_uri": "https://localhost:8080/"
        },
        "id": "o4XT1xOkqwJL",
        "outputId": "a7873a5d-0a3c-415a-89b6-f82fc67f1678"
      },
      "execution_count": 81,
      "outputs": [
        {
          "output_type": "execute_result",
          "data": {
            "text/plain": [
              "(10000,\n",
              " ['',\n",
              "  '[UNK]',\n",
              "  'für',\n",
              "  'von',\n",
              "  'und',\n",
              "  'cnc',\n",
              "  'lebensmittel',\n",
              "  'aus',\n",
              "  'kunststoff',\n",
              "  'verpackung'])"
            ]
          },
          "metadata": {},
          "execution_count": 81
        }
      ]
    },
    {
      "cell_type": "code",
      "source": [
        "model_1.summary()"
      ],
      "metadata": {
        "colab": {
          "base_uri": "https://localhost:8080/"
        },
        "id": "j4mSUiVWq3Sp",
        "outputId": "a5eb83a2-485a-4562-cbcb-fc07ea6e2dac"
      },
      "execution_count": 82,
      "outputs": [
        {
          "output_type": "stream",
          "name": "stdout",
          "text": [
            "Model: \"model_1_dense\"\n",
            "_________________________________________________________________\n",
            " Layer (type)                Output Shape              Param #   \n",
            "=================================================================\n",
            " input_3 (InputLayer)        [(None, 1)]               0         \n",
            "                                                                 \n",
            " text_vectorization_3 (TextV  (None, 15)               0         \n",
            " ectorization)                                                   \n",
            "                                                                 \n",
            " embedding_1 (Embedding)     (None, 15, 128)           1280000   \n",
            "                                                                 \n",
            " global_average_pooling1d_2   (None, 128)              0         \n",
            " (GlobalAveragePooling1D)                                        \n",
            "                                                                 \n",
            " dense_2 (Dense)             (None, 1)                 129       \n",
            "                                                                 \n",
            "=================================================================\n",
            "Total params: 1,280,129\n",
            "Trainable params: 1,280,129\n",
            "Non-trainable params: 0\n",
            "_________________________________________________________________\n"
          ]
        }
      ]
    },
    {
      "cell_type": "markdown",
      "source": [
        "# Recurrent Neural Networks (RNN's)\n"
      ],
      "metadata": {
        "id": "5bky3FCUq_na"
      }
    },
    {
      "cell_type": "markdown",
      "source": [
        "## Model 2: LSTM\n"
      ],
      "metadata": {
        "id": "taKSSyvzrBUe"
      }
    },
    {
      "cell_type": "code",
      "source": [
        "# Set random seed and create embedding layer (new embedding layer for each model)\n",
        "tf.random.set_seed(42)\n",
        "from tensorflow.keras import layers\n",
        "model_2_embedding = layers.Embedding(input_dim=max_vocab_length,\n",
        "                                     output_dim=128,\n",
        "                                     embeddings_initializer=\"uniform\",\n",
        "                                     input_length=max_length,\n",
        "                                     name=\"embedding_2\")\n",
        "\n",
        "\n",
        "# Create LSTM model\n",
        "inputs = layers.Input(shape=(1,), dtype=\"string\")\n",
        "x = text_vectorizer(inputs)\n",
        "x = model_2_embedding(x)\n",
        "print(x.shape)\n",
        "# x = layers.LSTM(64, return_sequences=True)(x) # return vector for each word in the Tweet (you can stack RNN cells as long as return_sequences=True)\n",
        "x = layers.LSTM(64)(x) # return vector for whole sequence\n",
        "print(x.shape)\n",
        "# x = layers.Dense(64, activation=\"relu\")(x) # optional dense layer on top of output of LSTM cell\n",
        "outputs = layers.Dense(1, activation=\"softmax\")(x)\n",
        "model_2 = tf.keras.Model(inputs, outputs, name=\"model_2_LSTM\")"
      ],
      "metadata": {
        "colab": {
          "base_uri": "https://localhost:8080/"
        },
        "id": "C9lD4amFq51y",
        "outputId": "825cd394-fde9-4767-d99e-4a509d1b60eb"
      },
      "execution_count": 83,
      "outputs": [
        {
          "output_type": "stream",
          "name": "stdout",
          "text": [
            "(None, 15, 128)\n",
            "(None, 64)\n"
          ]
        }
      ]
    },
    {
      "cell_type": "code",
      "source": [
        "# Compile model\n",
        "model_2.compile(loss=\"categorical_crossentropy\",\n",
        "                optimizer=tf.keras.optimizers.Adam(),\n",
        "                metrics=[\"accuracy\"])"
      ],
      "metadata": {
        "id": "L5EbIsAArmfk"
      },
      "execution_count": 84,
      "outputs": []
    },
    {
      "cell_type": "code",
      "source": [
        "model_2.summary()"
      ],
      "metadata": {
        "colab": {
          "base_uri": "https://localhost:8080/"
        },
        "id": "ODFNPazLrxvF",
        "outputId": "ef45b073-fd7c-417d-ff6b-aecc4821ea95"
      },
      "execution_count": 85,
      "outputs": [
        {
          "output_type": "stream",
          "name": "stdout",
          "text": [
            "Model: \"model_2_LSTM\"\n",
            "_________________________________________________________________\n",
            " Layer (type)                Output Shape              Param #   \n",
            "=================================================================\n",
            " input_4 (InputLayer)        [(None, 1)]               0         \n",
            "                                                                 \n",
            " text_vectorization_3 (TextV  (None, 15)               0         \n",
            " ectorization)                                                   \n",
            "                                                                 \n",
            " embedding_2 (Embedding)     (None, 15, 128)           1280000   \n",
            "                                                                 \n",
            " lstm (LSTM)                 (None, 64)                49408     \n",
            "                                                                 \n",
            " dense_3 (Dense)             (None, 1)                 65        \n",
            "                                                                 \n",
            "=================================================================\n",
            "Total params: 1,329,473\n",
            "Trainable params: 1,329,473\n",
            "Non-trainable params: 0\n",
            "_________________________________________________________________\n"
          ]
        }
      ]
    },
    {
      "cell_type": "code",
      "source": [
        "# Fit model\n",
        "model_2_history = model_2.fit(train_sentences,\n",
        "                              train_labels,\n",
        "                              epochs=5,\n",
        "                              validation_data=(val_sentences, val_labels),\n",
        "                              callbacks=[create_tensorboard_callback(SAVE_DIR, \n",
        "                                                                     \"LSTM\")])"
      ],
      "metadata": {
        "colab": {
          "base_uri": "https://localhost:8080/"
        },
        "id": "HlfnB6Mqr1ka",
        "outputId": "95cc9950-bffc-4ebd-f645-fb46ccc8a959"
      },
      "execution_count": 86,
      "outputs": [
        {
          "output_type": "stream",
          "name": "stdout",
          "text": [
            "Saving TensorBoard log files to: model_logs/LSTM/20220313-211943\n",
            "Epoch 1/5\n",
            "930/930 [==============================] - 15s 12ms/step - loss: 0.0000e+00 - accuracy: 0.2591 - val_loss: 0.0000e+00 - val_accuracy: 0.2565\n",
            "Epoch 2/5\n",
            "930/930 [==============================] - 11s 11ms/step - loss: 0.0000e+00 - accuracy: 0.2591 - val_loss: 0.0000e+00 - val_accuracy: 0.2565\n",
            "Epoch 3/5\n",
            "930/930 [==============================] - 11s 11ms/step - loss: 0.0000e+00 - accuracy: 0.2591 - val_loss: 0.0000e+00 - val_accuracy: 0.2565\n",
            "Epoch 4/5\n",
            "930/930 [==============================] - 11s 11ms/step - loss: 0.0000e+00 - accuracy: 0.2591 - val_loss: 0.0000e+00 - val_accuracy: 0.2565\n",
            "Epoch 5/5\n",
            "930/930 [==============================] - 11s 12ms/step - loss: 0.0000e+00 - accuracy: 0.2591 - val_loss: 0.0000e+00 - val_accuracy: 0.2565\n"
          ]
        }
      ]
    },
    {
      "cell_type": "code",
      "source": [
        "# Make predictions on the validation dataset\n",
        "model_2_pred_probs = model_2.predict(val_sentences)\n",
        "model_2_pred_probs.shape, model_2_pred_probs[:10] # view the first 10"
      ],
      "metadata": {
        "colab": {
          "base_uri": "https://localhost:8080/"
        },
        "id": "Y9V6UkY4r43L",
        "outputId": "d59e2fdc-9c3f-4229-80a9-7fcd986139b4"
      },
      "execution_count": 87,
      "outputs": [
        {
          "output_type": "execute_result",
          "data": {
            "text/plain": [
              "((7439, 1), array([[1.],\n",
              "        [1.],\n",
              "        [1.],\n",
              "        [1.],\n",
              "        [1.],\n",
              "        [1.],\n",
              "        [1.],\n",
              "        [1.],\n",
              "        [1.],\n",
              "        [1.]], dtype=float32))"
            ]
          },
          "metadata": {},
          "execution_count": 87
        }
      ]
    },
    {
      "cell_type": "code",
      "source": [
        "# Round out predictions and reduce to 1-dimensional array\n",
        "model_2_preds = tf.squeeze(tf.round(model_2_pred_probs))\n",
        "model_2_preds[:10]"
      ],
      "metadata": {
        "colab": {
          "base_uri": "https://localhost:8080/"
        },
        "id": "S6KcbLisr-8u",
        "outputId": "bacf8e6f-858c-47c3-cd1d-b99261cab8bb"
      },
      "execution_count": 88,
      "outputs": [
        {
          "output_type": "execute_result",
          "data": {
            "text/plain": [
              "<tf.Tensor: shape=(10,), dtype=float32, numpy=array([1., 1., 1., 1., 1., 1., 1., 1., 1., 1.], dtype=float32)>"
            ]
          },
          "metadata": {},
          "execution_count": 88
        }
      ]
    },
    {
      "cell_type": "code",
      "source": [
        "# Calculate LSTM model results\n",
        "model_2_results = calculate_results(y_true=val_labels,\n",
        "                                    y_pred=model_2_preds)\n",
        "model_2_results"
      ],
      "metadata": {
        "colab": {
          "base_uri": "https://localhost:8080/"
        },
        "id": "IR1EiIISsBSA",
        "outputId": "e150f461-c2b9-4188-846c-0ec2ca48748e"
      },
      "execution_count": 89,
      "outputs": [
        {
          "output_type": "stream",
          "name": "stderr",
          "text": [
            "/usr/local/lib/python3.7/dist-packages/sklearn/metrics/_classification.py:1318: UndefinedMetricWarning: Precision and F-score are ill-defined and being set to 0.0 in labels with no predicted samples. Use `zero_division` parameter to control this behavior.\n",
            "  _warn_prf(average, modifier, msg_start, len(result))\n"
          ]
        },
        {
          "output_type": "execute_result",
          "data": {
            "text/plain": [
              "{'accuracy': 25.648608683962898,\n",
              " 'f1': 0.10471283913341436,\n",
              " 'precision': 0.0657851127423057,\n",
              " 'recall': 0.256486086839629}"
            ]
          },
          "metadata": {},
          "execution_count": 89
        }
      ]
    },
    {
      "cell_type": "code",
      "source": [
        "# Compare model 2 to baseline\n",
        "compare_baseline_to_new_results(baseline_results, model_2_results)"
      ],
      "metadata": {
        "colab": {
          "base_uri": "https://localhost:8080/"
        },
        "id": "rLCpgEPEsVL3",
        "outputId": "dfa92d29-4d1f-4c0e-8795-74ac93284350"
      },
      "execution_count": 90,
      "outputs": [
        {
          "output_type": "stream",
          "name": "stdout",
          "text": [
            "Baseline accuracy: 84.96, New accuracy: 25.65, Difference: -59.31\n",
            "Baseline precision: 0.86, New precision: 0.07, Difference: -0.79\n",
            "Baseline recall: 0.85, New recall: 0.26, Difference: -0.59\n",
            "Baseline f1: 0.85, New f1: 0.10, Difference: -0.74\n"
          ]
        }
      ]
    },
    {
      "cell_type": "markdown",
      "source": [
        "# Convolutional Neural Networks for Text\n"
      ],
      "metadata": {
        "id": "JwR0YtPUs_Zx"
      }
    },
    {
      "cell_type": "markdown",
      "source": [
        "# Model 3: Conv1D"
      ],
      "metadata": {
        "id": "xfPXRPmstDQV"
      }
    },
    {
      "cell_type": "code",
      "source": [
        "# Test out the embedding, 1D convolutional and max pooling\n",
        "embedding_test = embedding(text_vectorizer([\"this is a test sentence\"])) # turn target sentence into embedding\n",
        "conv_1d = layers.Conv1D(filters=32, kernel_size=5, activation=\"relu\") # convolve over target sequence 5 words at a time\n",
        "conv_1d_output = conv_1d(embedding_test) # pass embedding through 1D convolutional layer\n",
        "max_pool = layers.GlobalMaxPool1D() \n",
        "max_pool_output = max_pool(conv_1d_output) # get the most important features\n",
        "embedding_test.shape, conv_1d_output.shape, max_pool_output.shape"
      ],
      "metadata": {
        "colab": {
          "base_uri": "https://localhost:8080/"
        },
        "id": "22wGyzPwsYih",
        "outputId": "33ed36a4-650d-475f-a9bd-38a6ec02fb51"
      },
      "execution_count": 91,
      "outputs": [
        {
          "output_type": "execute_result",
          "data": {
            "text/plain": [
              "(TensorShape([1, 15, 128]), TensorShape([1, 11, 32]), TensorShape([1, 32]))"
            ]
          },
          "metadata": {},
          "execution_count": 91
        }
      ]
    },
    {
      "cell_type": "code",
      "source": [
        "# See the outputs of each layer\n",
        "embedding_test[:1], conv_1d_output[:1], max_pool_output[:1]"
      ],
      "metadata": {
        "colab": {
          "base_uri": "https://localhost:8080/"
        },
        "id": "qUSDsR1WtHVD",
        "outputId": "4eb3e033-a2f0-4c62-c902-0d68e3e93a0c"
      },
      "execution_count": 92,
      "outputs": [
        {
          "output_type": "execute_result",
          "data": {
            "text/plain": [
              "(<tf.Tensor: shape=(1, 15, 128), dtype=float32, numpy=\n",
              " array([[[ 4.8318863e+00, -4.8576407e+00,  4.8646889e+00, ...,\n",
              "          -4.7936807e+00, -4.7681613e+00, -4.7909007e+00],\n",
              "         [ 4.8318863e+00, -4.8576407e+00,  4.8646889e+00, ...,\n",
              "          -4.7936807e+00, -4.7681613e+00, -4.7909007e+00],\n",
              "         [ 5.4258682e-02,  4.4895750e-03, -1.6194319e-02, ...,\n",
              "          -6.3130297e-02, -2.2257930e-02, -2.5315568e-02],\n",
              "         ...,\n",
              "         [ 5.8117070e+00, -5.8350039e+00,  5.9125566e+00, ...,\n",
              "          -5.8251481e+00, -5.7975917e+00, -5.8282523e+00],\n",
              "         [ 5.8117070e+00, -5.8350039e+00,  5.9125566e+00, ...,\n",
              "          -5.8251481e+00, -5.7975917e+00, -5.8282523e+00],\n",
              "         [ 5.8117070e+00, -5.8350039e+00,  5.9125566e+00, ...,\n",
              "          -5.8251481e+00, -5.7975917e+00, -5.8282523e+00]]], dtype=float32)>,\n",
              " <tf.Tensor: shape=(1, 11, 32), dtype=float32, numpy=\n",
              " array([[[ 0.        ,  0.8866627 ,  0.        ,  3.4095693 ,\n",
              "           0.        ,  0.        ,  6.6396303 ,  7.9843364 ,\n",
              "           0.        ,  0.        ,  0.        ,  0.        ,\n",
              "           0.        ,  1.7311354 ,  0.        ,  0.        ,\n",
              "           2.3190992 ,  2.619873  ,  5.865714  ,  5.234864  ,\n",
              "           0.        ,  0.4614843 ,  8.055831  ,  4.1979346 ,\n",
              "           0.        ,  2.8103738 ,  2.6758075 ,  0.        ,\n",
              "           7.578807  ,  3.4270825 , 11.721313  ,  1.3797095 ],\n",
              "         [ 1.0198872 ,  4.790824  ,  0.        ,  0.        ,\n",
              "           0.        ,  0.0423231 , 10.811356  ,  4.2106752 ,\n",
              "           0.        ,  0.        ,  0.        ,  0.        ,\n",
              "           0.42281568,  0.        ,  0.        ,  0.        ,\n",
              "           0.        ,  0.        ,  5.3730407 ,  9.695545  ,\n",
              "           0.        ,  0.        ,  7.156267  ,  9.054653  ,\n",
              "           0.        ,  2.7839592 ,  7.5375834 ,  0.        ,\n",
              "          14.677893  ,  0.        , 10.624555  ,  0.        ],\n",
              "         [ 0.        ,  5.6689105 ,  0.        ,  3.8375902 ,\n",
              "           0.48574793,  0.8285585 ,  2.8746443 ,  2.9176733 ,\n",
              "           0.        ,  0.        ,  3.1803465 ,  0.        ,\n",
              "           0.        ,  0.        ,  0.        ,  0.        ,\n",
              "           0.23802659,  0.27625304,  7.117532  , 10.090591  ,\n",
              "           0.        ,  0.        ,  0.14533943,  4.3773375 ,\n",
              "           0.        ,  5.0847807 ,  5.8170166 ,  0.        ,\n",
              "          13.305066  ,  2.8123362 ,  7.2069464 ,  0.        ],\n",
              "         [ 0.        ,  4.1369963 ,  0.        ,  0.7005821 ,\n",
              "           0.        ,  0.        ,  6.954174  ,  7.4692235 ,\n",
              "           0.        ,  0.        ,  0.        ,  0.        ,\n",
              "           0.        ,  0.        ,  0.        ,  0.        ,\n",
              "           0.3232004 ,  0.        ,  6.7527647 , 10.738246  ,\n",
              "           0.        ,  0.        ,  7.439055  ,  7.3286405 ,\n",
              "           0.        ,  2.7126546 ,  5.2071953 ,  0.        ,\n",
              "          18.145542  ,  2.6537979 , 14.464243  ,  0.        ],\n",
              "         [ 0.        ,  3.9421914 ,  0.        ,  1.4352844 ,\n",
              "           0.        ,  0.        ,  6.121457  ,  8.112736  ,\n",
              "           0.        ,  0.        ,  0.        ,  0.        ,\n",
              "           0.        ,  0.        ,  0.        ,  0.        ,\n",
              "           0.8412001 ,  0.        ,  6.9249268 , 10.661673  ,\n",
              "           0.        ,  0.        ,  7.383995  ,  6.900625  ,\n",
              "           0.        ,  2.7319274 ,  4.5696507 ,  0.        ,\n",
              "          18.476837  ,  3.3323243 , 14.905594  ,  0.        ],\n",
              "         [ 0.        ,  3.5634184 ,  0.        ,  0.9060818 ,\n",
              "           0.        ,  0.        ,  7.0394382 ,  9.141306  ,\n",
              "           0.        ,  0.        ,  0.        ,  0.        ,\n",
              "           0.        ,  0.        ,  0.        ,  0.        ,\n",
              "           0.9653172 ,  0.        ,  6.8724785 , 10.657783  ,\n",
              "           0.        ,  0.        ,  9.003903  ,  7.4184966 ,\n",
              "           0.        ,  2.259843  ,  4.3863564 ,  0.        ,\n",
              "          19.142365  ,  3.3388104 , 16.38285   ,  0.        ],\n",
              "         [ 0.        ,  3.5634189 ,  0.        ,  0.90608144,\n",
              "           0.        ,  0.        ,  7.0394363 ,  9.141306  ,\n",
              "           0.        ,  0.        ,  0.        ,  0.        ,\n",
              "           0.        ,  0.        ,  0.        ,  0.        ,\n",
              "           0.965317  ,  0.        ,  6.8724785 , 10.657783  ,\n",
              "           0.        ,  0.        ,  9.003903  ,  7.418496  ,\n",
              "           0.        ,  2.2598424 ,  4.386356  ,  0.        ,\n",
              "          19.142365  ,  3.338811  , 16.382853  ,  0.        ],\n",
              "         [ 0.        ,  3.5634193 ,  0.        ,  0.9060822 ,\n",
              "           0.        ,  0.        ,  7.039436  ,  9.141306  ,\n",
              "           0.        ,  0.        ,  0.        ,  0.        ,\n",
              "           0.        ,  0.        ,  0.        ,  0.        ,\n",
              "           0.9653175 ,  0.        ,  6.8724775 , 10.657782  ,\n",
              "           0.        ,  0.        ,  9.003902  ,  7.418496  ,\n",
              "           0.        ,  2.2598424 ,  4.3863554 ,  0.        ,\n",
              "          19.142365  ,  3.3388119 , 16.38285   ,  0.        ],\n",
              "         [ 0.        ,  3.5634189 ,  0.        ,  0.9060821 ,\n",
              "           0.        ,  0.        ,  7.039437  ,  9.141306  ,\n",
              "           0.        ,  0.        ,  0.        ,  0.        ,\n",
              "           0.        ,  0.        ,  0.        ,  0.        ,\n",
              "           0.9653176 ,  0.        ,  6.8724785 , 10.657782  ,\n",
              "           0.        ,  0.        ,  9.003902  ,  7.418496  ,\n",
              "           0.        ,  2.2598422 ,  4.3863554 ,  0.        ,\n",
              "          19.142365  ,  3.338811  , 16.38285   ,  0.        ],\n",
              "         [ 0.        ,  3.563418  ,  0.        ,  0.9060812 ,\n",
              "           0.        ,  0.        ,  7.039437  ,  9.141306  ,\n",
              "           0.        ,  0.        ,  0.        ,  0.        ,\n",
              "           0.        ,  0.        ,  0.        ,  0.        ,\n",
              "           0.96531713,  0.        ,  6.8724775 , 10.657782  ,\n",
              "           0.        ,  0.        ,  9.003904  ,  7.4184966 ,\n",
              "           0.        ,  2.2598424 ,  4.3863554 ,  0.        ,\n",
              "          19.142365  ,  3.3388112 , 16.382854  ,  0.        ],\n",
              "         [ 0.        ,  3.5634189 ,  0.        ,  0.90608203,\n",
              "           0.        ,  0.        ,  7.0394373 ,  9.141306  ,\n",
              "           0.        ,  0.        ,  0.        ,  0.        ,\n",
              "           0.        ,  0.        ,  0.        ,  0.        ,\n",
              "           0.96531725,  0.        ,  6.8724785 , 10.657783  ,\n",
              "           0.        ,  0.        ,  9.003904  ,  7.418496  ,\n",
              "           0.        ,  2.2598424 ,  4.386357  ,  0.        ,\n",
              "          19.142365  ,  3.3388104 , 16.38285   ,  0.        ]]],\n",
              "       dtype=float32)>,\n",
              " <tf.Tensor: shape=(1, 32), dtype=float32, numpy=\n",
              " array([[ 1.0198872 ,  5.6689105 ,  0.        ,  3.8375902 ,  0.48574793,\n",
              "          0.8285585 , 10.811356  ,  9.141306  ,  0.        ,  0.        ,\n",
              "          3.1803465 ,  0.        ,  0.42281568,  1.7311354 ,  0.        ,\n",
              "          0.        ,  2.3190992 ,  2.619873  ,  7.117532  , 10.738246  ,\n",
              "          0.        ,  0.4614843 ,  9.003904  ,  9.054653  ,  0.        ,\n",
              "          5.0847807 ,  7.5375834 ,  0.        , 19.142365  ,  3.4270825 ,\n",
              "         16.382854  ,  1.3797095 ]], dtype=float32)>)"
            ]
          },
          "metadata": {},
          "execution_count": 92
        }
      ]
    },
    {
      "cell_type": "code",
      "source": [
        "# Set random seed and create embedding layer (new embedding layer for each model)\n",
        "tf.random.set_seed(42)\n",
        "from tensorflow.keras import layers\n",
        "model_3_embedding = layers.Embedding(input_dim=max_vocab_length,\n",
        "                                     output_dim=128,\n",
        "                                     embeddings_initializer=\"uniform\",\n",
        "                                     input_length=max_length,\n",
        "                                     name=\"embedding_5\")\n",
        "\n",
        "# Create 1-dimensional convolutional layer to model sequences\n",
        "from tensorflow.keras import layers\n",
        "inputs = layers.Input(shape=(1,), dtype=\"string\")\n",
        "x = text_vectorizer(inputs)\n",
        "x = model_3_embedding(x)\n",
        "x = layers.Conv1D(filters=32, kernel_size=5, activation=\"relu\")(x)\n",
        "x = layers.GlobalMaxPool1D()(x)\n",
        "x = layers.Dense(64, activation=\"relu\")(x) # optional dense layer\n",
        "outputs = layers.Dense(1, activation=\"softmax\")(x)\n",
        "model_3 = tf.keras.Model(inputs, outputs, name=\"model_3_Conv1D\")\n",
        "\n",
        "# Compile Conv1D model\n",
        "model_3.compile(loss=\"categorical_crossentropy\",\n",
        "                optimizer=tf.keras.optimizers.Adam(lr = 0.1),\n",
        "                metrics=[\"accuracy\"])\n",
        "\n",
        "# Get a summary of our 1D convolution model\n",
        "model_3.summary()"
      ],
      "metadata": {
        "colab": {
          "base_uri": "https://localhost:8080/"
        },
        "id": "MgkFXD9RtK84",
        "outputId": "8b6a22a4-a698-43f3-b7dc-55b51860d5d8"
      },
      "execution_count": 93,
      "outputs": [
        {
          "output_type": "stream",
          "name": "stdout",
          "text": [
            "Model: \"model_3_Conv1D\"\n",
            "_________________________________________________________________\n",
            " Layer (type)                Output Shape              Param #   \n",
            "=================================================================\n",
            " input_5 (InputLayer)        [(None, 1)]               0         \n",
            "                                                                 \n",
            " text_vectorization_3 (TextV  (None, 15)               0         \n",
            " ectorization)                                                   \n",
            "                                                                 \n",
            " embedding_5 (Embedding)     (None, 15, 128)           1280000   \n",
            "                                                                 \n",
            " conv1d_1 (Conv1D)           (None, 11, 32)            20512     \n",
            "                                                                 \n",
            " global_max_pooling1d_1 (Glo  (None, 32)               0         \n",
            " balMaxPooling1D)                                                \n",
            "                                                                 \n",
            " dense_4 (Dense)             (None, 64)                2112      \n",
            "                                                                 \n",
            " dense_5 (Dense)             (None, 1)                 65        \n",
            "                                                                 \n",
            "=================================================================\n",
            "Total params: 1,302,689\n",
            "Trainable params: 1,302,689\n",
            "Non-trainable params: 0\n",
            "_________________________________________________________________\n"
          ]
        },
        {
          "output_type": "stream",
          "name": "stderr",
          "text": [
            "/usr/local/lib/python3.7/dist-packages/keras/optimizer_v2/adam.py:105: UserWarning: The `lr` argument is deprecated, use `learning_rate` instead.\n",
            "  super(Adam, self).__init__(name, **kwargs)\n"
          ]
        }
      ]
    },
    {
      "cell_type": "code",
      "source": [
        "# Fit the model\n",
        "model_3_history = model_3.fit(train_sentences,\n",
        "                              train_labels,\n",
        "                              epochs=5,\n",
        "                              validation_data=(val_sentences, val_labels),\n",
        "                              callbacks=[create_tensorboard_callback(SAVE_DIR, \n",
        "                                                                     \"Conv1D\")])"
      ],
      "metadata": {
        "colab": {
          "base_uri": "https://localhost:8080/"
        },
        "id": "Si8Tz3KAtlwv",
        "outputId": "0fa50dc1-78f2-415d-fc55-e4ccfdc36e35"
      },
      "execution_count": 94,
      "outputs": [
        {
          "output_type": "stream",
          "name": "stdout",
          "text": [
            "Saving TensorBoard log files to: model_logs/Conv1D/20220313-212343\n",
            "Epoch 1/5\n",
            "930/930 [==============================] - 10s 9ms/step - loss: 0.0000e+00 - accuracy: 0.2591 - val_loss: 0.0000e+00 - val_accuracy: 0.2565\n",
            "Epoch 2/5\n",
            "930/930 [==============================] - 8s 9ms/step - loss: 0.0000e+00 - accuracy: 0.2591 - val_loss: 0.0000e+00 - val_accuracy: 0.2565\n",
            "Epoch 3/5\n",
            "930/930 [==============================] - 8s 8ms/step - loss: 0.0000e+00 - accuracy: 0.2591 - val_loss: 0.0000e+00 - val_accuracy: 0.2565\n",
            "Epoch 4/5\n",
            "930/930 [==============================] - 8s 9ms/step - loss: 0.0000e+00 - accuracy: 0.2591 - val_loss: 0.0000e+00 - val_accuracy: 0.2565\n",
            "Epoch 5/5\n",
            "930/930 [==============================] - 9s 9ms/step - loss: 0.0000e+00 - accuracy: 0.2591 - val_loss: 0.0000e+00 - val_accuracy: 0.2565\n"
          ]
        }
      ]
    },
    {
      "cell_type": "code",
      "source": [
        "# Make predictions with model_3\n",
        "model_3_pred_probs = model_3.predict(val_sentences)\n",
        "model_3_pred_probs[:10]"
      ],
      "metadata": {
        "colab": {
          "base_uri": "https://localhost:8080/"
        },
        "id": "tiNdZ_KrtsO1",
        "outputId": "ae42c0d5-6ef5-410e-97b5-e8f318af6e36"
      },
      "execution_count": 95,
      "outputs": [
        {
          "output_type": "execute_result",
          "data": {
            "text/plain": [
              "array([[1.],\n",
              "       [1.],\n",
              "       [1.],\n",
              "       [1.],\n",
              "       [1.],\n",
              "       [1.],\n",
              "       [1.],\n",
              "       [1.],\n",
              "       [1.],\n",
              "       [1.]], dtype=float32)"
            ]
          },
          "metadata": {},
          "execution_count": 95
        }
      ]
    },
    {
      "cell_type": "code",
      "source": [
        "# Convert model_3 prediction probabilities to labels\n",
        "model_3_preds = tf.squeeze(tf.round(model_3_pred_probs))\n",
        "model_3_preds[:10]"
      ],
      "metadata": {
        "colab": {
          "base_uri": "https://localhost:8080/"
        },
        "id": "ppyEm_jQt3iK",
        "outputId": "700c7095-fb2f-49de-d2ca-8f4e1180c6ba"
      },
      "execution_count": 96,
      "outputs": [
        {
          "output_type": "execute_result",
          "data": {
            "text/plain": [
              "<tf.Tensor: shape=(10,), dtype=float32, numpy=array([1., 1., 1., 1., 1., 1., 1., 1., 1., 1.], dtype=float32)>"
            ]
          },
          "metadata": {},
          "execution_count": 96
        }
      ]
    },
    {
      "cell_type": "code",
      "source": [
        "# Calculate model_3 evaluation metrics \n",
        "model_3_results = calculate_results(y_true=val_labels, \n",
        "                                    y_pred=model_3_preds)\n",
        "model_3_results"
      ],
      "metadata": {
        "colab": {
          "base_uri": "https://localhost:8080/"
        },
        "id": "7adixkDBt8Tp",
        "outputId": "478abe87-3fe2-400a-bdf6-758c300bcd89"
      },
      "execution_count": 97,
      "outputs": [
        {
          "output_type": "stream",
          "name": "stderr",
          "text": [
            "/usr/local/lib/python3.7/dist-packages/sklearn/metrics/_classification.py:1318: UndefinedMetricWarning: Precision and F-score are ill-defined and being set to 0.0 in labels with no predicted samples. Use `zero_division` parameter to control this behavior.\n",
            "  _warn_prf(average, modifier, msg_start, len(result))\n"
          ]
        },
        {
          "output_type": "execute_result",
          "data": {
            "text/plain": [
              "{'accuracy': 25.648608683962898,\n",
              " 'f1': 0.10471283913341436,\n",
              " 'precision': 0.0657851127423057,\n",
              " 'recall': 0.256486086839629}"
            ]
          },
          "metadata": {},
          "execution_count": 97
        }
      ]
    },
    {
      "cell_type": "code",
      "source": [
        "# Compare model_3 results to baseline \n",
        "compare_baseline_to_new_results(baseline_results, model_3_results)"
      ],
      "metadata": {
        "colab": {
          "base_uri": "https://localhost:8080/"
        },
        "id": "S9NwgKsyuEwq",
        "outputId": "66d09957-9ad0-4973-ffa8-f34c2550672c"
      },
      "execution_count": 98,
      "outputs": [
        {
          "output_type": "stream",
          "name": "stdout",
          "text": [
            "Baseline accuracy: 84.96, New accuracy: 25.65, Difference: -59.31\n",
            "Baseline precision: 0.86, New precision: 0.07, Difference: -0.79\n",
            "Baseline recall: 0.85, New recall: 0.26, Difference: -0.59\n",
            "Baseline f1: 0.85, New f1: 0.10, Difference: -0.74\n"
          ]
        }
      ]
    },
    {
      "cell_type": "code",
      "source": [
        "# Setting up text vectorization \n",
        "from tensorflow.keras.layers.experimental.preprocessing import TextVectorization\n",
        "max_vocab_length = 10000 \n",
        "max_length = 15 \n",
        "\n",
        "text_vectorizer = TextVectorization(max_tokens = max_vocab_length , \n",
        "                                    output_mode = 'int', \n",
        "                                    output_sequence_length = max_length)\n",
        "\n",
        "# Fit the text vectorizer to the training text\n",
        "text_vectorizer.adapt(train_sentences)\n",
        "\n",
        "# Creating a embedding layer \n",
        "from tensorflow.keras import layers \n",
        "\n",
        "embedding = layers.Embedding(input_dim= max_vocab_length , \n",
        "                             output_dim = 128 , \n",
        "                             embeddings_initializer = 'uniform', \n",
        "                             input_length = max_vocab_length)"
      ],
      "metadata": {
        "id": "dOwzbqSXyIXz"
      },
      "execution_count": 99,
      "outputs": []
    },
    {
      "cell_type": "markdown",
      "source": [
        "# 1. Rebuild, compile and train model_1, model_2 and model_3 using the Keras Sequential API instead of the Functional API.\n"
      ],
      "metadata": {
        "id": "sn8cg642yo8S"
      }
    },
    {
      "cell_type": "code",
      "source": [
        "# Building the model 1 (A simple Dense model)\n",
        "model_4 = tf.keras.Sequential([\n",
        "    layers.Input(shape = (1, ) , dtype = 'string'), \n",
        "    text_vectorizer , \n",
        "    embedding , \n",
        "    layers.GlobalAveragePooling1D() , \n",
        "    layers.Dense(1, activation = 'softmax')\n",
        "    ])\n",
        "    \n",
        "# Compiling the model \n",
        "model_4.compile(loss=\"categorical_crossentropy\", \n",
        "                optimizer = tf.keras.optimizers.Adam() , \n",
        "                metrics = ['accuracy'])\n",
        "\n",
        "# Fitting the model \n",
        "model_4_history =  model_4.fit(train_sentences, \n",
        "                              train_labels,\n",
        "                              epochs=5,\n",
        "                              validation_data=(val_sentences, val_labels))"
      ],
      "metadata": {
        "colab": {
          "base_uri": "https://localhost:8080/"
        },
        "id": "2noL6MAsyeQj",
        "outputId": "6789b8a6-a257-4f56-b72c-9203e6d37dbd"
      },
      "execution_count": 100,
      "outputs": [
        {
          "output_type": "stream",
          "name": "stdout",
          "text": [
            "Epoch 1/5\n",
            "930/930 [==============================] - 8s 8ms/step - loss: 0.0000e+00 - accuracy: 0.2591 - val_loss: 0.0000e+00 - val_accuracy: 0.2565\n",
            "Epoch 2/5\n",
            "930/930 [==============================] - 7s 7ms/step - loss: 0.0000e+00 - accuracy: 0.2591 - val_loss: 0.0000e+00 - val_accuracy: 0.2565\n",
            "Epoch 3/5\n",
            "930/930 [==============================] - 7s 8ms/step - loss: 0.0000e+00 - accuracy: 0.2591 - val_loss: 0.0000e+00 - val_accuracy: 0.2565\n",
            "Epoch 4/5\n",
            "930/930 [==============================] - 7s 7ms/step - loss: 0.0000e+00 - accuracy: 0.2591 - val_loss: 0.0000e+00 - val_accuracy: 0.2565\n",
            "Epoch 5/5\n",
            "930/930 [==============================] - 7s 8ms/step - loss: 0.0000e+00 - accuracy: 0.2591 - val_loss: 0.0000e+00 - val_accuracy: 0.2565\n"
          ]
        }
      ]
    },
    {
      "cell_type": "code",
      "source": [
        "# Make predictions with model_4\n",
        "model_4_pred_probs = model_4.predict(val_sentences)\n",
        "model_4_pred_probs[:10]"
      ],
      "metadata": {
        "colab": {
          "base_uri": "https://localhost:8080/"
        },
        "id": "-4FcxrVGy_lO",
        "outputId": "afae433c-3d24-4d6e-bd0a-9a1a1d770b81"
      },
      "execution_count": 101,
      "outputs": [
        {
          "output_type": "execute_result",
          "data": {
            "text/plain": [
              "array([[1.],\n",
              "       [1.],\n",
              "       [1.],\n",
              "       [1.],\n",
              "       [1.],\n",
              "       [1.],\n",
              "       [1.],\n",
              "       [1.],\n",
              "       [1.],\n",
              "       [1.]], dtype=float32)"
            ]
          },
          "metadata": {},
          "execution_count": 101
        }
      ]
    },
    {
      "cell_type": "code",
      "source": [
        "# Convert model_4 prediction probabilities to labels\n",
        "model_4_preds = tf.squeeze(tf.round(model_4_pred_probs))\n",
        "model_4_preds[:10]"
      ],
      "metadata": {
        "colab": {
          "base_uri": "https://localhost:8080/"
        },
        "id": "eRirm6Kezgqa",
        "outputId": "3f779929-f7a9-4d26-ee9b-b38bce4d6bf8"
      },
      "execution_count": 102,
      "outputs": [
        {
          "output_type": "execute_result",
          "data": {
            "text/plain": [
              "<tf.Tensor: shape=(10,), dtype=float32, numpy=array([1., 1., 1., 1., 1., 1., 1., 1., 1., 1.], dtype=float32)>"
            ]
          },
          "metadata": {},
          "execution_count": 102
        }
      ]
    },
    {
      "cell_type": "code",
      "source": [
        "# Calculate model_4 evaluation metrics \n",
        "model_4_results = calculate_results(y_true=val_labels, \n",
        "                                    y_pred=model_4_preds)\n",
        "model_4_results"
      ],
      "metadata": {
        "colab": {
          "base_uri": "https://localhost:8080/"
        },
        "id": "Yj9mqGCUznWR",
        "outputId": "d0e9f6ef-468b-4131-8aad-64a51f66b0a3"
      },
      "execution_count": 103,
      "outputs": [
        {
          "output_type": "stream",
          "name": "stderr",
          "text": [
            "/usr/local/lib/python3.7/dist-packages/sklearn/metrics/_classification.py:1318: UndefinedMetricWarning: Precision and F-score are ill-defined and being set to 0.0 in labels with no predicted samples. Use `zero_division` parameter to control this behavior.\n",
            "  _warn_prf(average, modifier, msg_start, len(result))\n"
          ]
        },
        {
          "output_type": "execute_result",
          "data": {
            "text/plain": [
              "{'accuracy': 25.648608683962898,\n",
              " 'f1': 0.10471283913341436,\n",
              " 'precision': 0.0657851127423057,\n",
              " 'recall': 0.256486086839629}"
            ]
          },
          "metadata": {},
          "execution_count": 103
        }
      ]
    },
    {
      "cell_type": "code",
      "source": [
        "# Compare model_4 results to baseline \n",
        "compare_baseline_to_new_results(baseline_results, model_4_results)"
      ],
      "metadata": {
        "colab": {
          "base_uri": "https://localhost:8080/"
        },
        "id": "4bfkNVN3zvDU",
        "outputId": "86561d83-d99e-4078-ef6e-1768e0599660"
      },
      "execution_count": 104,
      "outputs": [
        {
          "output_type": "stream",
          "name": "stdout",
          "text": [
            "Baseline accuracy: 84.96, New accuracy: 25.65, Difference: -59.31\n",
            "Baseline precision: 0.86, New precision: 0.07, Difference: -0.79\n",
            "Baseline recall: 0.85, New recall: 0.26, Difference: -0.59\n",
            "Baseline f1: 0.85, New f1: 0.10, Difference: -0.74\n"
          ]
        }
      ]
    },
    {
      "cell_type": "code",
      "source": [
        "# Building the model 5 (An LSTM model)\n",
        "model_5 = tf.keras.Sequential([\n",
        "    layers.Input(shape = (1, ) , dtype = 'string'), \n",
        "    text_vectorizer , \n",
        "    embedding , \n",
        "    layers.LSTM(64), \n",
        "    #layers.GlobalAveragePooling1D() , \n",
        "    layers.Dense(1, activation = 'softmax')\n",
        "    ])\n",
        "    \n",
        "# Compiling the model \n",
        "model_5.compile(loss=\"categorical_crossentropy\", \n",
        "                optimizer = tf.keras.optimizers.Adam() , \n",
        "                metrics = ['accuracy'])\n",
        "\n",
        "# Fitting the model \n",
        "model_5_history =  model_5.fit(train_sentences, \n",
        "                              train_labels,\n",
        "                              epochs=5,\n",
        "                              validation_data=(val_sentences, val_labels))"
      ],
      "metadata": {
        "colab": {
          "base_uri": "https://localhost:8080/"
        },
        "id": "NBq2Qvucz0o2",
        "outputId": "cb9d8572-1efb-47b9-8ef5-59432bb39f61"
      },
      "execution_count": 105,
      "outputs": [
        {
          "output_type": "stream",
          "name": "stdout",
          "text": [
            "Epoch 1/5\n",
            "930/930 [==============================] - 14s 13ms/step - loss: 0.0000e+00 - accuracy: 0.2591 - val_loss: 0.0000e+00 - val_accuracy: 0.2565\n",
            "Epoch 2/5\n",
            "930/930 [==============================] - 10s 11ms/step - loss: 0.0000e+00 - accuracy: 0.2591 - val_loss: 0.0000e+00 - val_accuracy: 0.2565\n",
            "Epoch 3/5\n",
            "930/930 [==============================] - 10s 11ms/step - loss: 0.0000e+00 - accuracy: 0.2591 - val_loss: 0.0000e+00 - val_accuracy: 0.2565\n",
            "Epoch 4/5\n",
            "930/930 [==============================] - 10s 11ms/step - loss: 0.0000e+00 - accuracy: 0.2591 - val_loss: 0.0000e+00 - val_accuracy: 0.2565\n",
            "Epoch 5/5\n",
            "930/930 [==============================] - 10s 11ms/step - loss: 0.0000e+00 - accuracy: 0.2591 - val_loss: 0.0000e+00 - val_accuracy: 0.2565\n"
          ]
        }
      ]
    },
    {
      "cell_type": "code",
      "source": [
        "# Make predictions with model_5\n",
        "model_5_pred_probs = model_5.predict(val_sentences)\n",
        "model_5_pred_probs[:10]"
      ],
      "metadata": {
        "colab": {
          "base_uri": "https://localhost:8080/"
        },
        "id": "2xzLip-V0KXN",
        "outputId": "b2333691-0e6b-4161-b46c-9c5fc685f724"
      },
      "execution_count": 106,
      "outputs": [
        {
          "output_type": "execute_result",
          "data": {
            "text/plain": [
              "array([[1.],\n",
              "       [1.],\n",
              "       [1.],\n",
              "       [1.],\n",
              "       [1.],\n",
              "       [1.],\n",
              "       [1.],\n",
              "       [1.],\n",
              "       [1.],\n",
              "       [1.]], dtype=float32)"
            ]
          },
          "metadata": {},
          "execution_count": 106
        }
      ]
    },
    {
      "cell_type": "code",
      "source": [
        "# Convert model_5 prediction probabilities to labels\n",
        "model_5_preds = tf.squeeze(tf.round(model_5_pred_probs))\n",
        "model_5_preds[:10]"
      ],
      "metadata": {
        "colab": {
          "base_uri": "https://localhost:8080/"
        },
        "id": "2rLsHeGM0OiP",
        "outputId": "1c2e8c01-c75a-4bb0-b43f-cf74f9b16364"
      },
      "execution_count": 107,
      "outputs": [
        {
          "output_type": "execute_result",
          "data": {
            "text/plain": [
              "<tf.Tensor: shape=(10,), dtype=float32, numpy=array([1., 1., 1., 1., 1., 1., 1., 1., 1., 1.], dtype=float32)>"
            ]
          },
          "metadata": {},
          "execution_count": 107
        }
      ]
    },
    {
      "cell_type": "code",
      "source": [
        "# Calculate model_5 evaluation metrics \n",
        "model_5_results = calculate_results(y_true=val_labels, \n",
        "                                    y_pred=model_5_preds)\n",
        "model_5_results"
      ],
      "metadata": {
        "colab": {
          "base_uri": "https://localhost:8080/"
        },
        "id": "0c3NDdUv0Rjb",
        "outputId": "dca883a5-b183-4b4e-bc34-ec8526398cd0"
      },
      "execution_count": 108,
      "outputs": [
        {
          "output_type": "stream",
          "name": "stderr",
          "text": [
            "/usr/local/lib/python3.7/dist-packages/sklearn/metrics/_classification.py:1318: UndefinedMetricWarning: Precision and F-score are ill-defined and being set to 0.0 in labels with no predicted samples. Use `zero_division` parameter to control this behavior.\n",
            "  _warn_prf(average, modifier, msg_start, len(result))\n"
          ]
        },
        {
          "output_type": "execute_result",
          "data": {
            "text/plain": [
              "{'accuracy': 25.648608683962898,\n",
              " 'f1': 0.10471283913341436,\n",
              " 'precision': 0.0657851127423057,\n",
              " 'recall': 0.256486086839629}"
            ]
          },
          "metadata": {},
          "execution_count": 108
        }
      ]
    },
    {
      "cell_type": "code",
      "source": [
        "# Compare model_5 results to baseline \n",
        "compare_baseline_to_new_results(baseline_results, model_5_results)"
      ],
      "metadata": {
        "colab": {
          "base_uri": "https://localhost:8080/"
        },
        "id": "u8uYX79r0UBM",
        "outputId": "272b150a-bf1b-44fd-83a3-cca30039bd9c"
      },
      "execution_count": 109,
      "outputs": [
        {
          "output_type": "stream",
          "name": "stdout",
          "text": [
            "Baseline accuracy: 84.96, New accuracy: 25.65, Difference: -59.31\n",
            "Baseline precision: 0.86, New precision: 0.07, Difference: -0.79\n",
            "Baseline recall: 0.85, New recall: 0.26, Difference: -0.59\n",
            "Baseline f1: 0.85, New f1: 0.10, Difference: -0.74\n"
          ]
        }
      ]
    },
    {
      "cell_type": "markdown",
      "source": [
        "# Model_6"
      ],
      "metadata": {
        "id": "iw8rY9Pi0dTG"
      }
    },
    {
      "cell_type": "code",
      "source": [
        "# Building the model 6 (Conv1D Model)\n",
        "\n",
        "model_6 = tf.keras.Sequential([\n",
        "    layers.Input(shape = (1, ) , dtype = 'string'), \n",
        "    text_vectorizer , \n",
        "    embedding , \n",
        "    layers.Conv1D(32 , 5 , activation= 'relu'),\n",
        "    layers.GlobalMaxPool1D() , \n",
        "    layers.Dense(1, activation = 'softmax')\n",
        "    ])\n",
        "    \n",
        "# Compiling the model \n",
        "model_6.compile(loss=\"categorical_crossentropy\", \n",
        "                optimizer = tf.keras.optimizers.Adam() , \n",
        "                metrics = ['accuracy'])\n",
        "\n",
        "# Fitting the model \n",
        "model_6_history =  model_6.fit(train_sentences, \n",
        "                              train_labels,\n",
        "                              epochs=5,\n",
        "                              validation_data=(val_sentences, val_labels))"
      ],
      "metadata": {
        "colab": {
          "base_uri": "https://localhost:8080/"
        },
        "id": "alzIUinz0WhU",
        "outputId": "7271ed8b-9a39-464e-8949-8467e2e6a3ef"
      },
      "execution_count": 110,
      "outputs": [
        {
          "output_type": "stream",
          "name": "stdout",
          "text": [
            "Epoch 1/5\n",
            "930/930 [==============================] - 9s 9ms/step - loss: 0.0000e+00 - accuracy: 0.2591 - val_loss: 0.0000e+00 - val_accuracy: 0.2565\n",
            "Epoch 2/5\n",
            "930/930 [==============================] - 8s 9ms/step - loss: 0.0000e+00 - accuracy: 0.2591 - val_loss: 0.0000e+00 - val_accuracy: 0.2565\n",
            "Epoch 3/5\n",
            "930/930 [==============================] - 8s 9ms/step - loss: 0.0000e+00 - accuracy: 0.2591 - val_loss: 0.0000e+00 - val_accuracy: 0.2565\n",
            "Epoch 4/5\n",
            "930/930 [==============================] - 8s 8ms/step - loss: 0.0000e+00 - accuracy: 0.2591 - val_loss: 0.0000e+00 - val_accuracy: 0.2565\n",
            "Epoch 5/5\n",
            "930/930 [==============================] - 8s 9ms/step - loss: 0.0000e+00 - accuracy: 0.2591 - val_loss: 0.0000e+00 - val_accuracy: 0.2565\n"
          ]
        }
      ]
    },
    {
      "cell_type": "code",
      "source": [
        "# Make predictions with model_6\n",
        "model_6_pred_probs = model_6.predict(val_sentences)\n",
        "model_6_pred_probs[:10]"
      ],
      "metadata": {
        "colab": {
          "base_uri": "https://localhost:8080/"
        },
        "id": "SXaolRYN00WZ",
        "outputId": "15a74778-6dc2-4de8-c318-8fd9a47f4b7f"
      },
      "execution_count": 111,
      "outputs": [
        {
          "output_type": "execute_result",
          "data": {
            "text/plain": [
              "array([[1.],\n",
              "       [1.],\n",
              "       [1.],\n",
              "       [1.],\n",
              "       [1.],\n",
              "       [1.],\n",
              "       [1.],\n",
              "       [1.],\n",
              "       [1.],\n",
              "       [1.]], dtype=float32)"
            ]
          },
          "metadata": {},
          "execution_count": 111
        }
      ]
    },
    {
      "cell_type": "code",
      "source": [
        "# Convert model_6 prediction probabilities to labels\n",
        "model_6_preds = tf.squeeze(tf.round(model_6_pred_probs))\n",
        "model_6_preds[:10]"
      ],
      "metadata": {
        "colab": {
          "base_uri": "https://localhost:8080/"
        },
        "id": "gMSEpxTe08oF",
        "outputId": "f7089ac4-ef53-4615-ecbd-ff51b04d8da7"
      },
      "execution_count": 112,
      "outputs": [
        {
          "output_type": "execute_result",
          "data": {
            "text/plain": [
              "<tf.Tensor: shape=(10,), dtype=float32, numpy=array([1., 1., 1., 1., 1., 1., 1., 1., 1., 1.], dtype=float32)>"
            ]
          },
          "metadata": {},
          "execution_count": 112
        }
      ]
    },
    {
      "cell_type": "code",
      "source": [
        "# Calculate model_6 evaluation metrics \n",
        "model_6_results = calculate_results(y_true=val_labels, \n",
        "                                    y_pred=model_6_preds)\n",
        "model_6_results"
      ],
      "metadata": {
        "colab": {
          "base_uri": "https://localhost:8080/"
        },
        "id": "MJTXwiyI1CRD",
        "outputId": "36b5ee9d-e4dd-4a30-baed-d0200431029f"
      },
      "execution_count": 113,
      "outputs": [
        {
          "output_type": "stream",
          "name": "stderr",
          "text": [
            "/usr/local/lib/python3.7/dist-packages/sklearn/metrics/_classification.py:1318: UndefinedMetricWarning: Precision and F-score are ill-defined and being set to 0.0 in labels with no predicted samples. Use `zero_division` parameter to control this behavior.\n",
            "  _warn_prf(average, modifier, msg_start, len(result))\n"
          ]
        },
        {
          "output_type": "execute_result",
          "data": {
            "text/plain": [
              "{'accuracy': 25.648608683962898,\n",
              " 'f1': 0.10471283913341436,\n",
              " 'precision': 0.0657851127423057,\n",
              " 'recall': 0.256486086839629}"
            ]
          },
          "metadata": {},
          "execution_count": 113
        }
      ]
    },
    {
      "cell_type": "code",
      "source": [
        "# Compare model_6 results to baseline \n",
        "compare_baseline_to_new_results(baseline_results, model_6_results)"
      ],
      "metadata": {
        "colab": {
          "base_uri": "https://localhost:8080/"
        },
        "id": "CYTbo0QU1I_1",
        "outputId": "8c71c818-15f5-4acb-9c09-2cdc3198ee8b"
      },
      "execution_count": 114,
      "outputs": [
        {
          "output_type": "stream",
          "name": "stdout",
          "text": [
            "Baseline accuracy: 84.96, New accuracy: 25.65, Difference: -59.31\n",
            "Baseline precision: 0.86, New precision: 0.07, Difference: -0.79\n",
            "Baseline recall: 0.85, New recall: 0.26, Difference: -0.59\n",
            "Baseline f1: 0.85, New f1: 0.10, Difference: -0.74\n"
          ]
        }
      ]
    },
    {
      "cell_type": "markdown",
      "source": [
        "# Make a confusion matrix with the best performing model's predictions on the validation set and the validation ground truth labels."
      ],
      "metadata": {
        "id": "IUSTOupx1z_c"
      }
    },
    {
      "cell_type": "code",
      "source": [
        "import itertools\n",
        "import matplotlib.pyplot as plt\n",
        "import numpy as np\n",
        "from sklearn.metrics import confusion_matrix\n",
        "\n",
        "# Our function needs a different name to sklearn's plot_confusion_matrix\n",
        "def make_confusion_matrix(y_true, y_pred, classes=None, figsize=(10, 10), text_size=15, norm=False, savefig=False): \n",
        "\n",
        "  # Create the confustion matrix\n",
        "  cm = confusion_matrix(y_true, y_pred)\n",
        "  cm_norm = cm.astype(\"float\") / cm.sum(axis=1)[:, np.newaxis] # normalize it\n",
        "  n_classes = cm.shape[0] # find the number of classes we're dealing with\n",
        "\n",
        "  # Plot the figure and make it pretty\n",
        "  fig, ax = plt.subplots(figsize=figsize)\n",
        "  cax = ax.matshow(cm, cmap=plt.cm.Blues) # colors will represent how 'correct' a class is, darker == better\n",
        "  fig.colorbar(cax)\n",
        "\n",
        "  # Are there a list of classes?\n",
        "  if classes:\n",
        "    labels = classes\n",
        "  else:\n",
        "    labels = np.arange(cm.shape[0])\n",
        "  \n",
        "  # Label the axes\n",
        "  ax.set(title=\"Confusion Matrix\",\n",
        "         xlabel=\"Predicted label\",\n",
        "         ylabel=\"True label\",\n",
        "         xticks=np.arange(n_classes), # create enough axis slots for each class\n",
        "         yticks=np.arange(n_classes), \n",
        "         xticklabels=labels, # axes will labeled with class names (if they exist) or ints\n",
        "         yticklabels=labels)\n",
        "  \n",
        "  # Make x-axis labels appear on bottom\n",
        "  ax.xaxis.set_label_position(\"bottom\")\n",
        "  ax.xaxis.tick_bottom()\n",
        "\n",
        "  ### Added: Rotate xticks for readability & increase font size (required due to such a large confusion matrix)\n",
        "  plt.xticks(rotation=70, fontsize=text_size)\n",
        "  plt.yticks(fontsize=text_size)\n",
        "\n",
        "  # Set the threshold for different colors\n",
        "  threshold = (cm.max() + cm.min()) / 2.\n",
        "\n",
        "  # Plot the text on each cell\n",
        "  for i, j in itertools.product(range(cm.shape[0]), range(cm.shape[1])):\n",
        "    if norm:\n",
        "      plt.text(j, i, f\"{cm[i, j]} ({cm_norm[i, j]*100:.1f}%)\",\n",
        "              horizontalalignment=\"center\",\n",
        "              color=\"white\" if cm[i, j] > threshold else \"black\",\n",
        "              size=text_size)\n",
        "    else:\n",
        "      plt.text(j, i, f\"{cm[i, j]}\",\n",
        "              horizontalalignment=\"center\",\n",
        "              color=\"white\" if cm[i, j] > threshold else \"black\",\n",
        "              size=text_size)\n",
        "\n",
        "  # Save the figure to the current working directory\n",
        "  if savefig:\n",
        "    fig.savefig(\"confusion_matrix.png\")"
      ],
      "metadata": {
        "id": "xa497Id61OmG"
      },
      "execution_count": 115,
      "outputs": []
    },
    {
      "cell_type": "code",
      "source": [
        "# Getting the model predictions \n",
        "\n",
        "def give_preds(model, test_sentences):\n",
        "  pred_probs = model.predict(test_sentences)\n",
        "  preds = tf.squeeze(tf.round(pred_probs))\n",
        "  preds = tf.cast(preds , dtype = tf.int32)\n",
        "\n",
        "  return preds"
      ],
      "metadata": {
        "id": "3H6lTYmc2l5q"
      },
      "execution_count": 116,
      "outputs": []
    },
    {
      "cell_type": "markdown",
      "source": [
        "I tried different models but the accuracy and f1 score is so less. I checked the based model confusion matrix"
      ],
      "metadata": {
        "id": "alFD-Vr_NJv8"
      }
    },
    {
      "cell_type": "code",
      "source": [
        "# Predictions on the validation sentences \n",
        "val_preds = give_preds(model_0, val_sentences) \n",
        "\n",
        "# Creating a array of our class names \n",
        "class_names = ['ft' , 'pkg', 'ct', 'mr', 'ch', 'cnc']\n",
        "\n",
        "# Checking the preds and true labels shape\n",
        "val_preds.shape , val_labels.shape"
      ],
      "metadata": {
        "colab": {
          "base_uri": "https://localhost:8080/"
        },
        "id": "Ivz2mePj1979",
        "outputId": "432022ab-04e8-44db-b0b3-c0b597644748"
      },
      "execution_count": 117,
      "outputs": [
        {
          "output_type": "execute_result",
          "data": {
            "text/plain": [
              "(TensorShape([7439]), (7439,))"
            ]
          },
          "metadata": {},
          "execution_count": 117
        }
      ]
    },
    {
      "cell_type": "code",
      "source": [
        "# Plotting the confusion matrix \n",
        "make_confusion_matrix(y_true= val_labels , \n",
        "                      y_pred = val_preds , \n",
        "                      classes = class_names , \n",
        "                      figsize= (15 , 7), \n",
        "                      norm = False , \n",
        "                      savefig = True , \n",
        "                      text_size = 15)"
      ],
      "metadata": {
        "colab": {
          "base_uri": "https://localhost:8080/",
          "height": 499
        },
        "id": "-Tt7EQ9T2YDp",
        "outputId": "3503f575-b065-4bf2-995f-f6b2c5c21f64"
      },
      "execution_count": 118,
      "outputs": [
        {
          "output_type": "display_data",
          "data": {
            "text/plain": [
              "<Figure size 1080x504 with 2 Axes>"
            ],
            "image/png": "[encoded data removed]"
          },
          "metadata": {
            "needs_background": "light"
          }
        }
      ]
    },
    {
      "cell_type": "markdown",
      "source": [
        "# Comparing the performance of each of our models\n"
      ],
      "metadata": {
        "id": "MbRlVzW136Mm"
      }
    },
    {
      "cell_type": "code",
      "source": [
        "# Combine model results into a DataFrame\n",
        "all_model_results = pd.DataFrame({\"baseline\": baseline_results,\n",
        "                                  \"simple_dense\": model_1_results,\n",
        "                                  \"lstm\": model_2_results,\n",
        "                                  \"conv1d\": model_3_results,\n",
        "                                  \"simple_dense_seq_API\": model_4_results,\n",
        "                                  \"lstm_seq_API\": model_5_results,\n",
        "                                  \"conv1d_seq_API\": model_6_results})\n",
        "all_model_results = all_model_results.transpose()\n",
        "all_model_results"
      ],
      "metadata": {
        "colab": {
          "base_uri": "https://localhost:8080/",
          "height": 269
        },
        "id": "jcD2ZRXm2xNw",
        "outputId": "c5854741-ccbd-4314-89dc-f2690c86aecb"
      },
      "execution_count": 119,
      "outputs": [
        {
          "output_type": "execute_result",
          "data": {
            "text/plain": [
              "                       accuracy  precision    recall        f1\n",
              "baseline              84.957656   0.858742  0.849577  0.846952\n",
              "simple_dense          25.648609   0.065785  0.256486  0.104713\n",
              "lstm                  25.648609   0.065785  0.256486  0.104713\n",
              "conv1d                25.648609   0.065785  0.256486  0.104713\n",
              "simple_dense_seq_API  25.648609   0.065785  0.256486  0.104713\n",
              "lstm_seq_API          25.648609   0.065785  0.256486  0.104713\n",
              "conv1d_seq_API        25.648609   0.065785  0.256486  0.104713"
            ],
            "text/html": [
              "\n",
              "  <div id=\"df-b9a883e9-6a44-4d88-9372-66cca40d4a05\">\n",
              "    <div class=\"colab-df-container\">\n",
              "      <div>\n",
              "<style scoped>\n",
              "    .dataframe tbody tr th:only-of-type {\n",
              "        vertical-align: middle;\n",
              "    }\n",
              "\n",
              "    .dataframe tbody tr th {\n",
              "        vertical-align: top;\n",
              "    }\n",
              "\n",
              "    .dataframe thead th {\n",
              "        text-align: right;\n",
              "    }\n",
              "</style>\n",
              "<table border=\"1\" class=\"dataframe\">\n",
              "  <thead>\n",
              "    <tr style=\"text-align: right;\">\n",
              "      <th></th>\n",
              "      <th>accuracy</th>\n",
              "      <th>precision</th>\n",
              "      <th>recall</th>\n",
              "      <th>f1</th>\n",
              "    </tr>\n",
              "  </thead>\n",
              "  <tbody>\n",
              "    <tr>\n",
              "      <th>baseline</th>\n",
              "      <td>84.957656</td>\n",
              "      <td>0.858742</td>\n",
              "      <td>0.849577</td>\n",
              "      <td>0.846952</td>\n",
              "    </tr>\n",
              "    <tr>\n",
              "      <th>simple_dense</th>\n",
              "      <td>25.648609</td>\n",
              "      <td>0.065785</td>\n",
              "      <td>0.256486</td>\n",
              "      <td>0.104713</td>\n",
              "    </tr>\n",
              "    <tr>\n",
              "      <th>lstm</th>\n",
              "      <td>25.648609</td>\n",
              "      <td>0.065785</td>\n",
              "      <td>0.256486</td>\n",
              "      <td>0.104713</td>\n",
              "    </tr>\n",
              "    <tr>\n",
              "      <th>conv1d</th>\n",
              "      <td>25.648609</td>\n",
              "      <td>0.065785</td>\n",
              "      <td>0.256486</td>\n",
              "      <td>0.104713</td>\n",
              "    </tr>\n",
              "    <tr>\n",
              "      <th>simple_dense_seq_API</th>\n",
              "      <td>25.648609</td>\n",
              "      <td>0.065785</td>\n",
              "      <td>0.256486</td>\n",
              "      <td>0.104713</td>\n",
              "    </tr>\n",
              "    <tr>\n",
              "      <th>lstm_seq_API</th>\n",
              "      <td>25.648609</td>\n",
              "      <td>0.065785</td>\n",
              "      <td>0.256486</td>\n",
              "      <td>0.104713</td>\n",
              "    </tr>\n",
              "    <tr>\n",
              "      <th>conv1d_seq_API</th>\n",
              "      <td>25.648609</td>\n",
              "      <td>0.065785</td>\n",
              "      <td>0.256486</td>\n",
              "      <td>0.104713</td>\n",
              "    </tr>\n",
              "  </tbody>\n",
              "</table>\n",
              "</div>\n",
              "      <button class=\"colab-df-convert\" onclick=\"convertToInteractive('df-b9a883e9-6a44-4d88-9372-66cca40d4a05')\"\n",
              "              title=\"Convert this dataframe to an interactive table.\"\n",
              "              style=\"display:none;\">\n",
              "        \n",
              "  <svg xmlns=\"http://www.w3.org/2000/svg\" height=\"24px\"viewBox=\"0 0 24 24\"\n",
              "       width=\"24px\">\n",
              "    <path d=\"M0 0h24v24H0V0z\" fill=\"none\"/>\n",
              "    <path d=\"M18.56 5.44l.94 2.06.94-2.06 2.06-.94-2.06-.94-.94-2.06-.94 2.06-2.06.94zm-11 1L8.5 8.5l.94-2.06 2.06-.94-2.06-.94L8.5 2.5l-.94 2.06-2.06.94zm10 10l.94 2.06.94-2.06 2.06-.94-2.06-.94-.94-2.06-.94 2.06-2.06.94z\"/><path d=\"M17.41 7.96l-1.37-1.37c-.4-.4-.92-.59-1.43-.59-.52 0-1.04.2-1.43.59L10.3 9.45l-7.72 7.72c-.78.78-.78 2.05 0 2.83L4 21.41c.39.39.9.59 1.41.59.51 0 1.02-.2 1.41-.59l7.78-7.78 2.81-2.81c.8-.78.8-2.07 0-2.86zM5.41 20L4 18.59l7.72-7.72 1.47 1.35L5.41 20z\"/>\n",
              "  </svg>\n",
              "      </button>\n",
              "      \n",
              "  <style>\n",
              "    .colab-df-container {\n",
              "      display:flex;\n",
              "      flex-wrap:wrap;\n",
              "      gap: 12px;\n",
              "    }\n",
              "\n",
              "    .colab-df-convert {\n",
              "      background-color: #E8F0FE;\n",
              "      border: none;\n",
              "      border-radius: 50%;\n",
              "      cursor: pointer;\n",
              "      display: none;\n",
              "      fill: #1967D2;\n",
              "      height: 32px;\n",
              "      padding: 0 0 0 0;\n",
              "      width: 32px;\n",
              "    }\n",
              "\n",
              "    .colab-df-convert:hover {\n",
              "      background-color: #E2EBFA;\n",
              "      box-shadow: 0px 1px 2px rgba(60, 64, 67, 0.3), 0px 1px 3px 1px rgba(60, 64, 67, 0.15);\n",
              "      fill: #174EA6;\n",
              "    }\n",
              "\n",
              "    [theme=dark] .colab-df-convert {\n",
              "      background-color: #3B4455;\n",
              "      fill: #D2E3FC;\n",
              "    }\n",
              "\n",
              "    [theme=dark] .colab-df-convert:hover {\n",
              "      background-color: #434B5C;\n",
              "      box-shadow: 0px 1px 3px 1px rgba(0, 0, 0, 0.15);\n",
              "      filter: drop-shadow(0px 1px 2px rgba(0, 0, 0, 0.3));\n",
              "      fill: #FFFFFF;\n",
              "    }\n",
              "  </style>\n",
              "\n",
              "      <script>\n",
              "        const buttonEl =\n",
              "          document.querySelector('#df-b9a883e9-6a44-4d88-9372-66cca40d4a05 button.colab-df-convert');\n",
              "        buttonEl.style.display =\n",
              "          google.colab.kernel.accessAllowed ? 'block' : 'none';\n",
              "\n",
              "        async function convertToInteractive(key) {\n",
              "          const element = document.querySelector('#df-b9a883e9-6a44-4d88-9372-66cca40d4a05');\n",
              "          const dataTable =\n",
              "            await google.colab.kernel.invokeFunction('convertToInteractive',\n",
              "                                                     [key], {});\n",
              "          if (!dataTable) return;\n",
              "\n",
              "          const docLinkHtml = 'Like what you see? Visit the ' +\n",
              "            '<a target=\"_blank\" href=https://colab.research.google.com/notebooks/data_table.ipynb>data table notebook</a>'\n",
              "            + ' to learn more about interactive tables.';\n",
              "          element.innerHTML = '';\n",
              "          dataTable['output_type'] = 'display_data';\n",
              "          await google.colab.output.renderOutput(dataTable, element);\n",
              "          const docLink = document.createElement('div');\n",
              "          docLink.innerHTML = docLinkHtml;\n",
              "          element.appendChild(docLink);\n",
              "        }\n",
              "      </script>\n",
              "    </div>\n",
              "  </div>\n",
              "  "
            ]
          },
          "metadata": {},
          "execution_count": 119
        }
      ]
    },
    {
      "cell_type": "code",
      "source": [
        "# Reduce the accuracy to same scale as other metrics\n",
        "all_model_results[\"accuracy\"] = all_model_results[\"accuracy\"]/100"
      ],
      "metadata": {
        "id": "TIgTRlQG3uZH"
      },
      "execution_count": 120,
      "outputs": []
    },
    {
      "cell_type": "code",
      "source": [
        "# Plot and compare all of the model results\n",
        "all_model_results.plot(kind=\"bar\", figsize=(10, 7)).legend(bbox_to_anchor=(1.0, 1.0));"
      ],
      "metadata": {
        "colab": {
          "base_uri": "https://localhost:8080/",
          "height": 530
        },
        "id": "ZZmynw3a3_uc",
        "outputId": "3558bbc0-a6f8-459a-f8db-7104d89fc800"
      },
      "execution_count": 121,
      "outputs": [
        {
          "output_type": "display_data",
          "data": {
            "text/plain": [
              "<Figure size 720x504 with 1 Axes>"
            ],
            "image/png": "[encoded data removed]"
          },
          "metadata": {
            "needs_background": "light"
          }
        }
      ]
    },
    {
      "cell_type": "code",
      "source": [
        "# Sort model results by f1-score\n",
        "all_model_results.sort_values(\"f1\", ascending=False)[\"f1\"].plot(kind=\"bar\", figsize=(10, 7));"
      ],
      "metadata": {
        "colab": {
          "base_uri": "https://localhost:8080/",
          "height": 530
        },
        "id": "y5M3Ybs54CEd",
        "outputId": "134a59db-8502-4622-c7ac-7fb94055c306"
      },
      "execution_count": 122,
      "outputs": [
        {
          "output_type": "display_data",
          "data": {
            "text/plain": [
              "<Figure size 720x504 with 1 Axes>"
            ],
            "image/png": "[encoded data removed]"
          },
          "metadata": {
            "needs_background": "light"
          }
        }
      ]
    },
    {
      "cell_type": "markdown",
      "source": [
        "# Saving and loading a trained model"
      ],
      "metadata": {
        "id": "CADPPaA75QLa"
      }
    },
    {
      "cell_type": "code",
      "source": [
        "import pickle\n"
      ],
      "metadata": {
        "id": "NQXt3TrJ4Kfg"
      },
      "execution_count": 123,
      "outputs": []
    },
    {
      "cell_type": "code",
      "source": [
        "# Save an existing model to file\n",
        "pickle.dump(model_3, open(\"model_3.pkl\", \"wb\"))\n",
        "#Saving the Model\n",
        "model_version=1\n",
        "model_3.save(f\"D:\\Seema project/{model_version}\")"
      ],
      "metadata": {
        "colab": {
          "base_uri": "https://localhost:8080/"
        },
        "id": "GujuK5auB5v3",
        "outputId": "a5debd5a-90f7-4512-fedd-fa79f4317b35"
      },
      "execution_count": 128,
      "outputs": [
        {
          "output_type": "stream",
          "name": "stdout",
          "text": [
            "INFO:tensorflow:Assets written to: ram://272aabf9-1377-40a2-a418-ce5f664f6c41/assets\n",
            "INFO:tensorflow:Assets written to: D:\\Seema project/1/assets\n"
          ]
        }
      ]
    },
    {
      "cell_type": "markdown",
      "source": [
        "**I build 3 Sequential models and 3 Functional Models but, Unfortunately, The accuracy is so less and no any model has defeat the base model score i will deploy this model in flask**"
      ],
      "metadata": {
        "id": "xji4_6mON55q"
      }
    },
    {
      "cell_type": "code",
      "source": [
        ""
      ],
      "metadata": {
        "id": "hD-aNHuHDYmu"
      },
      "execution_count": null,
      "outputs": []
    }
  ]
}